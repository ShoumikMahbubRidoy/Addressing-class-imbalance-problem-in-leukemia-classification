{
 "cells": [
  {
   "cell_type": "markdown",
   "metadata": {},
   "source": [
    "### Trains Efficientnet architecture"
   ]
  },
  {
   "cell_type": "code",
   "execution_count": 1,
   "metadata": {
    "colab": {
     "base_uri": "https://localhost:8080/",
     "height": 35
    },
    "colab_type": "code",
    "id": "tiEV3cHhSQ5u",
    "outputId": "a30a42d0-7c46-44a1-8afe-a0656f6cf1ca"
   },
   "outputs": [
    {
     "name": "stderr",
     "output_type": "stream",
     "text": [
      "Using TensorFlow backend.\n"
     ]
    }
   ],
   "source": [
    "import numpy as np\n",
    "import os\n",
    "import glob\n",
    "import cv2\n",
    "import random\n",
    "import matplotlib.pyplot as plt\n",
    "import keras\n",
    "\n",
    "import tensorflow as tf\n",
    "from keras.models import Sequential\n",
    "from keras.optimizers import RMSprop\n",
    "from keras.layers import Conv2D, MaxPooling2D\n",
    "from keras.layers import Activation, Dropout, Flatten, Dense\n",
    "from sklearn.utils import shuffle\n",
    "from sklearn.model_selection import train_test_split\n",
    "from keras import optimizers\n",
    "from keras.utils import to_categorical, plot_model\n",
    "from keras.layers import Dense, Input, Conv2D, Flatten, MaxPooling2D, Activation\n",
    "from keras.models import Model, Sequential\n",
    "from keras.layers import Activation, Dropout, Flatten, Dense\n",
    "from keras.callbacks import ModelCheckpoint\n",
    "from keras.optimizers import Adam\n",
    "from keras.applications.vgg16 import VGG16\n",
    "from keras.models import load_model\n",
    "from keras.utils import np_utils\n",
    "from keras import backend as K\n",
    "%run helpers.py\n",
    "import helpers # our helper script\n",
    "from sklearn.model_selection import train_test_split\n",
    "\n",
    "from efficientnet.keras import EfficientNetB0 # B0 or B5\n",
    "from efficientnet.keras import center_crop_and_resize, preprocess_input\n",
    "\n",
    "\n",
    "np.random.seed(1)"
   ]
  },
  {
   "cell_type": "code",
   "execution_count": 2,
   "metadata": {},
   "outputs": [],
   "source": [
    "import tensorflow as tf\n",
    "\n",
    "def f1(y_true, y_pred):\n",
    "    y_pred = K.round(y_pred)\n",
    "    tp = K.sum(K.cast(y_true*y_pred, 'float'), axis=0)\n",
    "    tn = K.sum(K.cast((1-y_true)*(1-y_pred), 'float'), axis=0)\n",
    "    fp = K.sum(K.cast((1-y_true)*y_pred, 'float'), axis=0)\n",
    "    fn = K.sum(K.cast(y_true*(1-y_pred), 'float'), axis=0)\n",
    "\n",
    "    p = tp / (tp + fp + K.epsilon())\n",
    "    r = tp / (tp + fn + K.epsilon())\n",
    "\n",
    "    f1 = 2*p*r / (p+r+K.epsilon())\n",
    "    f1 = tf.where(tf.is_nan(f1), tf.zeros_like(f1), f1)\n",
    "    return K.mean(f1)\n",
    "\n",
    "def f1_loss(y_true, y_pred):\n",
    "    \n",
    "    tp = K.sum(K.cast(y_true*y_pred, 'float'), axis=0)\n",
    "    tn = K.sum(K.cast((1-y_true)*(1-y_pred), 'float'), axis=0)\n",
    "    fp = K.sum(K.cast((1-y_true)*y_pred, 'float'), axis=0)\n",
    "    fn = K.sum(K.cast(y_true*(1-y_pred), 'float'), axis=0)\n",
    "\n",
    "    p = tp / (tp + fp + K.epsilon())\n",
    "    r = tp / (tp + fn + K.epsilon())\n",
    "\n",
    "    f1 = 2*p*r / (p+r+K.epsilon())\n",
    "    f1 = tf.where(tf.is_nan(f1), tf.zeros_like(f1), f1)\n",
    "    return 1 - K.mean(f1)"
   ]
  },
  {
   "cell_type": "code",
   "execution_count": 3,
   "metadata": {},
   "outputs": [
    {
     "name": "stdout",
     "output_type": "stream",
     "text": [
      "['CycleGAN.PNG', 'Dataset', 'efficientnet_exp.ipynb', 'EXP_NAME', 'helpers.py', 'improving-cycle-gan-intel-ai-devcloud-fig10-780721.png', 'leuk-master', 'leuk-master.zip', 'Leukaemia_468-20210921T110338Z-001.zip', 'Leukemia-20210917T003146Z-001', 'Leukemia-20210917T003146Z-001.zip', 'Leukemia-20210917T003146Z-002', 'Leukemia-20210917T003146Z-002.zip', 'Leukemia-20210917T003146Z-003', 'Leukemia-20210917T003146Z-003.zip', 'Leukemia-Classification-using-Deep-Learning-master', 'Leukemia-Classification-using-Deep-Learning-master.zip', 'leukemia-main', 'leukemia-main.zip', 'LOG_PATH', 'test first', 'Untitled6.ipynb', 'x_train_256.npy', 'x_train_256_AUG.npy', 'x_val_256.npy', 'x_val_256_AUG.npy', 'y_train_256.npy', 'y_train_256_AUG.npy', 'y_val_256.npy', 'y_val_256_AUG.npy']\n",
      "['CycleGAN.PNG', 'Dataset', 'efficientnet_exp.ipynb', 'EXP_NAME', 'helpers.py', 'improving-cycle-gan-intel-ai-devcloud-fig10-780721.png', 'leuk-master', 'leuk-master.zip', 'Leukaemia_468-20210921T110338Z-001.zip', 'Leukemia-20210917T003146Z-001', 'Leukemia-20210917T003146Z-001.zip', 'Leukemia-20210917T003146Z-002', 'Leukemia-20210917T003146Z-002.zip', 'Leukemia-20210917T003146Z-003', 'Leukemia-20210917T003146Z-003.zip', 'Leukemia-Classification-using-Deep-Learning-master', 'Leukemia-Classification-using-Deep-Learning-master.zip', 'leukemia-main', 'leukemia-main.zip', 'LOG_PATH', 'test first', 'Untitled6.ipynb', 'x_train_256.npy', 'x_train_256_AUG.npy', 'x_val_256.npy', 'x_val_256_AUG.npy', 'y_train_256.npy', 'y_train_256_AUG.npy', 'y_val_256.npy', 'y_val_256_AUG.npy']\n",
      "['EFFNET_EXP_21_HIGH_CROP_BCE_ALL_LAYER_MONITOR_VALACC_DG_LR001_200epochs']\n"
     ]
    }
   ],
   "source": [
    "#Root directory of the project\n",
    "ROOT_DIR = os.path.abspath(\".\")\n",
    "DATASET_PATH = os.path.join(ROOT_DIR, \"C:\\All DataSet\\leukomia\")\n",
    "VAL_DATASET_PATH = os.path.join(ROOT_DIR, \"C:\\All DataSet\\leukomia\")\n",
    "LOG_PATH = os.path.join(ROOT_DIR, \"C:\\All DataSet\\leukomia\\LOG_PATH\")\n",
    "print(os.listdir(DATASET_PATH))\n",
    "print(os.listdir(VAL_DATASET_PATH))\n",
    "print(os.listdir(LOG_PATH))"
   ]
  },
  {
   "cell_type": "markdown",
   "metadata": {},
   "source": [
    "Dataset(numpy array) descriptions:\n",
    "    \n",
    "    Train:\n",
    "        * version_0 -> raw data with crop \n",
    "        * version_1 -> balanced classes with crop\n",
    "        * version_2 -> balanced using opencv aug and raw\n",
    "        * version_3 -> balanced using v_2 and seq1-3 aug and raw\n",
    "     Val:\n",
    "         * version_1 -> crop only\n",
    "         * version_2 -> raw\n"
   ]
  },
  {
   "cell_type": "code",
   "execution_count": 4,
   "metadata": {
    "colab": {
     "base_uri": "https://localhost:8080/",
     "height": 35
    },
    "colab_type": "code",
    "id": "7YEH44-4pjyZ",
    "outputId": "303cf008-a5fd-48f0-97c7-576aedd6c15f"
   },
   "outputs": [
    {
     "data": {
      "text/plain": [
       "((20439, 256, 256, 3), (20439, 2))"
      ]
     },
     "execution_count": 4,
     "metadata": {},
     "output_type": "execute_result"
    }
   ],
   "source": [
    "x_train = np.load(\"{}/x_train_256_AUG.npy\".format(DATASET_PATH))\n",
    "y_train = np.load(\"{}/y_train_256_AUG.npy\".format(DATASET_PATH))\n",
    "x_train.shape, y_train.shape"
   ]
  },
  {
   "cell_type": "code",
   "execution_count": 5,
   "metadata": {},
   "outputs": [
    {
     "data": {
      "text/plain": [
       "((1867, 256, 256, 3), (1867, 2))"
      ]
     },
     "execution_count": 5,
     "metadata": {},
     "output_type": "execute_result"
    }
   ],
   "source": [
    "# Get val data\n",
    "x_val = np.load(\"{}/x_val_256_AUG.npy\".format(VAL_DATASET_PATH))\n",
    "y_val = np.load(\"{}/y_val_256_AUG.npy\".format(VAL_DATASET_PATH))\n",
    "x_val.shape, y_val.shape"
   ]
  },
  {
   "cell_type": "code",
   "execution_count": 6,
   "metadata": {},
   "outputs": [
    {
     "data": {
      "text/plain": [
       "256"
      ]
     },
     "execution_count": 6,
     "metadata": {},
     "output_type": "execute_result"
    }
   ],
   "source": [
    "IMAGE_SIZE = x_train[0].shape[0]\n",
    "IMAGE_SIZE"
   ]
  },
  {
   "cell_type": "markdown",
   "metadata": {},
   "source": [
    "* https://stackoverflow.com/questions/47555829/preprocess-input-method-in-keras\n",
    "* X = preprocess_input(X)\n",
    "* center_crop_and_resize(image, image_size=256) # image -> raw image"
   ]
  },
  {
   "cell_type": "code",
   "execution_count": 7,
   "metadata": {},
   "outputs": [
    {
     "name": "stdout",
     "output_type": "stream",
     "text": [
      "WARNING:tensorflow:From C:\\Users\\My PC\\anaconda3\\envs\\PythonGPU\\lib\\site-packages\\keras\\backend\\tensorflow_backend.py:74: The name tf.get_default_graph is deprecated. Please use tf.compat.v1.get_default_graph instead.\n",
      "\n",
      "WARNING:tensorflow:From C:\\Users\\My PC\\anaconda3\\envs\\PythonGPU\\lib\\site-packages\\keras\\backend\\tensorflow_backend.py:517: The name tf.placeholder is deprecated. Please use tf.compat.v1.placeholder instead.\n",
      "\n",
      "WARNING:tensorflow:From C:\\Users\\My PC\\anaconda3\\envs\\PythonGPU\\lib\\site-packages\\keras\\backend\\tensorflow_backend.py:4185: The name tf.truncated_normal is deprecated. Please use tf.random.truncated_normal instead.\n",
      "\n",
      "WARNING:tensorflow:From C:\\Users\\My PC\\anaconda3\\envs\\PythonGPU\\lib\\site-packages\\keras\\backend\\tensorflow_backend.py:174: The name tf.get_default_session is deprecated. Please use tf.compat.v1.get_default_session instead.\n",
      "\n",
      "WARNING:tensorflow:From C:\\Users\\My PC\\anaconda3\\envs\\PythonGPU\\lib\\site-packages\\keras\\backend\\tensorflow_backend.py:181: The name tf.ConfigProto is deprecated. Please use tf.compat.v1.ConfigProto instead.\n",
      "\n",
      "WARNING:tensorflow:From C:\\Users\\My PC\\anaconda3\\envs\\PythonGPU\\lib\\site-packages\\keras\\backend\\tensorflow_backend.py:186: The name tf.Session is deprecated. Please use tf.compat.v1.Session instead.\n",
      "\n",
      "WARNING:tensorflow:From C:\\Users\\My PC\\anaconda3\\envs\\PythonGPU\\lib\\site-packages\\keras\\backend\\tensorflow_backend.py:190: The name tf.global_variables is deprecated. Please use tf.compat.v1.global_variables instead.\n",
      "\n",
      "WARNING:tensorflow:From C:\\Users\\My PC\\anaconda3\\envs\\PythonGPU\\lib\\site-packages\\keras\\backend\\tensorflow_backend.py:199: The name tf.is_variable_initialized is deprecated. Please use tf.compat.v1.is_variable_initialized instead.\n",
      "\n",
      "WARNING:tensorflow:From C:\\Users\\My PC\\anaconda3\\envs\\PythonGPU\\lib\\site-packages\\keras\\backend\\tensorflow_backend.py:206: The name tf.variables_initializer is deprecated. Please use tf.compat.v1.variables_initializer instead.\n",
      "\n",
      "WARNING:tensorflow:From C:\\Users\\My PC\\anaconda3\\envs\\PythonGPU\\lib\\site-packages\\keras\\backend\\tensorflow_backend.py:1834: The name tf.nn.fused_batch_norm is deprecated. Please use tf.compat.v1.nn.fused_batch_norm instead.\n",
      "\n",
      "WARNING:tensorflow:From C:\\Users\\My PC\\anaconda3\\envs\\PythonGPU\\lib\\site-packages\\keras\\backend\\tensorflow_backend.py:133: The name tf.placeholder_with_default is deprecated. Please use tf.compat.v1.placeholder_with_default instead.\n",
      "\n",
      "WARNING:tensorflow:From C:\\Users\\My PC\\anaconda3\\envs\\PythonGPU\\lib\\site-packages\\keras\\backend\\tensorflow_backend.py:3445: calling dropout (from tensorflow.python.ops.nn_ops) with keep_prob is deprecated and will be removed in a future version.\n",
      "Instructions for updating:\n",
      "Please use `rate` instead of `keep_prob`. Rate should be set to `rate = 1 - keep_prob`.\n",
      "WARNING:tensorflow:From C:\\Users\\My PC\\anaconda3\\envs\\PythonGPU\\lib\\site-packages\\keras\\backend\\tensorflow_backend.py:4138: The name tf.random_uniform is deprecated. Please use tf.random.uniform instead.\n",
      "\n",
      "WARNING:tensorflow:From C:\\Users\\My PC\\anaconda3\\envs\\PythonGPU\\lib\\site-packages\\keras\\optimizers.py:790: The name tf.train.Optimizer is deprecated. Please use tf.compat.v1.train.Optimizer instead.\n",
      "\n",
      "WARNING:tensorflow:From C:\\Users\\My PC\\anaconda3\\envs\\PythonGPU\\lib\\site-packages\\keras\\backend\\tensorflow_backend.py:3376: The name tf.log is deprecated. Please use tf.math.log instead.\n",
      "\n",
      "WARNING:tensorflow:From C:\\Users\\My PC\\anaconda3\\envs\\PythonGPU\\lib\\site-packages\\tensorflow_core\\python\\ops\\nn_impl.py:183: where (from tensorflow.python.ops.array_ops) is deprecated and will be removed in a future version.\n",
      "Instructions for updating:\n",
      "Use tf.where in 2.0, which has the same broadcast rule as np.where\n",
      "__________________________________________________________________________________________________\n",
      "Layer (type)                    Output Shape         Param #     Connected to                     \n",
      "==================================================================================================\n",
      "input_1 (InputLayer)            (None, 256, 256, 3)  0                                            \n",
      "__________________________________________________________________________________________________\n",
      "stem_conv (Conv2D)              (None, 128, 128, 32) 864         input_1[0][0]                    \n",
      "__________________________________________________________________________________________________\n",
      "stem_bn (BatchNormalization)    (None, 128, 128, 32) 128         stem_conv[0][0]                  \n",
      "__________________________________________________________________________________________________\n",
      "stem_activation (Activation)    (None, 128, 128, 32) 0           stem_bn[0][0]                    \n",
      "__________________________________________________________________________________________________\n",
      "block1a_dwconv (DepthwiseConv2D (None, 128, 128, 32) 288         stem_activation[0][0]            \n",
      "__________________________________________________________________________________________________\n",
      "block1a_bn (BatchNormalization) (None, 128, 128, 32) 128         block1a_dwconv[0][0]             \n",
      "__________________________________________________________________________________________________\n",
      "block1a_activation (Activation) (None, 128, 128, 32) 0           block1a_bn[0][0]                 \n",
      "__________________________________________________________________________________________________\n",
      "block1a_se_squeeze (GlobalAvera (None, 32)           0           block1a_activation[0][0]         \n",
      "__________________________________________________________________________________________________\n",
      "block1a_se_reshape (Reshape)    (None, 1, 1, 32)     0           block1a_se_squeeze[0][0]         \n",
      "__________________________________________________________________________________________________\n",
      "block1a_se_reduce (Conv2D)      (None, 1, 1, 8)      264         block1a_se_reshape[0][0]         \n",
      "__________________________________________________________________________________________________\n",
      "block1a_se_expand (Conv2D)      (None, 1, 1, 32)     288         block1a_se_reduce[0][0]          \n",
      "__________________________________________________________________________________________________\n",
      "block1a_se_excite (Multiply)    (None, 128, 128, 32) 0           block1a_activation[0][0]         \n",
      "                                                                 block1a_se_expand[0][0]          \n",
      "__________________________________________________________________________________________________\n",
      "block1a_project_conv (Conv2D)   (None, 128, 128, 16) 512         block1a_se_excite[0][0]          \n",
      "__________________________________________________________________________________________________\n",
      "block1a_project_bn (BatchNormal (None, 128, 128, 16) 64          block1a_project_conv[0][0]       \n",
      "__________________________________________________________________________________________________\n",
      "block2a_expand_conv (Conv2D)    (None, 128, 128, 96) 1536        block1a_project_bn[0][0]         \n",
      "__________________________________________________________________________________________________\n",
      "block2a_expand_bn (BatchNormali (None, 128, 128, 96) 384         block2a_expand_conv[0][0]        \n",
      "__________________________________________________________________________________________________\n",
      "block2a_expand_activation (Acti (None, 128, 128, 96) 0           block2a_expand_bn[0][0]          \n",
      "__________________________________________________________________________________________________\n",
      "block2a_dwconv (DepthwiseConv2D (None, 64, 64, 96)   864         block2a_expand_activation[0][0]  \n",
      "__________________________________________________________________________________________________\n",
      "block2a_bn (BatchNormalization) (None, 64, 64, 96)   384         block2a_dwconv[0][0]             \n",
      "__________________________________________________________________________________________________\n",
      "block2a_activation (Activation) (None, 64, 64, 96)   0           block2a_bn[0][0]                 \n",
      "__________________________________________________________________________________________________\n",
      "block2a_se_squeeze (GlobalAvera (None, 96)           0           block2a_activation[0][0]         \n",
      "__________________________________________________________________________________________________\n",
      "block2a_se_reshape (Reshape)    (None, 1, 1, 96)     0           block2a_se_squeeze[0][0]         \n",
      "__________________________________________________________________________________________________\n",
      "block2a_se_reduce (Conv2D)      (None, 1, 1, 4)      388         block2a_se_reshape[0][0]         \n",
      "__________________________________________________________________________________________________\n",
      "block2a_se_expand (Conv2D)      (None, 1, 1, 96)     480         block2a_se_reduce[0][0]          \n",
      "__________________________________________________________________________________________________\n",
      "block2a_se_excite (Multiply)    (None, 64, 64, 96)   0           block2a_activation[0][0]         \n",
      "                                                                 block2a_se_expand[0][0]          \n",
      "__________________________________________________________________________________________________\n",
      "block2a_project_conv (Conv2D)   (None, 64, 64, 24)   2304        block2a_se_excite[0][0]          \n",
      "__________________________________________________________________________________________________\n",
      "block2a_project_bn (BatchNormal (None, 64, 64, 24)   96          block2a_project_conv[0][0]       \n",
      "__________________________________________________________________________________________________\n",
      "block2b_expand_conv (Conv2D)    (None, 64, 64, 144)  3456        block2a_project_bn[0][0]         \n",
      "__________________________________________________________________________________________________\n",
      "block2b_expand_bn (BatchNormali (None, 64, 64, 144)  576         block2b_expand_conv[0][0]        \n",
      "__________________________________________________________________________________________________\n",
      "block2b_expand_activation (Acti (None, 64, 64, 144)  0           block2b_expand_bn[0][0]          \n",
      "__________________________________________________________________________________________________\n",
      "block2b_dwconv (DepthwiseConv2D (None, 64, 64, 144)  1296        block2b_expand_activation[0][0]  \n",
      "__________________________________________________________________________________________________\n",
      "block2b_bn (BatchNormalization) (None, 64, 64, 144)  576         block2b_dwconv[0][0]             \n",
      "__________________________________________________________________________________________________\n",
      "block2b_activation (Activation) (None, 64, 64, 144)  0           block2b_bn[0][0]                 \n",
      "__________________________________________________________________________________________________\n",
      "block2b_se_squeeze (GlobalAvera (None, 144)          0           block2b_activation[0][0]         \n",
      "__________________________________________________________________________________________________\n",
      "block2b_se_reshape (Reshape)    (None, 1, 1, 144)    0           block2b_se_squeeze[0][0]         \n",
      "__________________________________________________________________________________________________\n",
      "block2b_se_reduce (Conv2D)      (None, 1, 1, 6)      870         block2b_se_reshape[0][0]         \n",
      "__________________________________________________________________________________________________\n",
      "block2b_se_expand (Conv2D)      (None, 1, 1, 144)    1008        block2b_se_reduce[0][0]          \n",
      "__________________________________________________________________________________________________\n",
      "block2b_se_excite (Multiply)    (None, 64, 64, 144)  0           block2b_activation[0][0]         \n",
      "                                                                 block2b_se_expand[0][0]          \n",
      "__________________________________________________________________________________________________\n",
      "block2b_project_conv (Conv2D)   (None, 64, 64, 24)   3456        block2b_se_excite[0][0]          \n",
      "__________________________________________________________________________________________________\n",
      "block2b_project_bn (BatchNormal (None, 64, 64, 24)   96          block2b_project_conv[0][0]       \n",
      "__________________________________________________________________________________________________\n",
      "block2b_drop (FixedDropout)     (None, 64, 64, 24)   0           block2b_project_bn[0][0]         \n",
      "__________________________________________________________________________________________________\n",
      "block2b_add (Add)               (None, 64, 64, 24)   0           block2b_drop[0][0]               \n",
      "                                                                 block2a_project_bn[0][0]         \n",
      "__________________________________________________________________________________________________\n",
      "block3a_expand_conv (Conv2D)    (None, 64, 64, 144)  3456        block2b_add[0][0]                \n",
      "__________________________________________________________________________________________________\n",
      "block3a_expand_bn (BatchNormali (None, 64, 64, 144)  576         block3a_expand_conv[0][0]        \n",
      "__________________________________________________________________________________________________\n",
      "block3a_expand_activation (Acti (None, 64, 64, 144)  0           block3a_expand_bn[0][0]          \n",
      "__________________________________________________________________________________________________\n",
      "block3a_dwconv (DepthwiseConv2D (None, 32, 32, 144)  3600        block3a_expand_activation[0][0]  \n",
      "__________________________________________________________________________________________________\n",
      "block3a_bn (BatchNormalization) (None, 32, 32, 144)  576         block3a_dwconv[0][0]             \n",
      "__________________________________________________________________________________________________\n",
      "block3a_activation (Activation) (None, 32, 32, 144)  0           block3a_bn[0][0]                 \n",
      "__________________________________________________________________________________________________\n",
      "block3a_se_squeeze (GlobalAvera (None, 144)          0           block3a_activation[0][0]         \n",
      "__________________________________________________________________________________________________\n",
      "block3a_se_reshape (Reshape)    (None, 1, 1, 144)    0           block3a_se_squeeze[0][0]         \n",
      "__________________________________________________________________________________________________\n",
      "block3a_se_reduce (Conv2D)      (None, 1, 1, 6)      870         block3a_se_reshape[0][0]         \n",
      "__________________________________________________________________________________________________\n",
      "block3a_se_expand (Conv2D)      (None, 1, 1, 144)    1008        block3a_se_reduce[0][0]          \n",
      "__________________________________________________________________________________________________\n",
      "block3a_se_excite (Multiply)    (None, 32, 32, 144)  0           block3a_activation[0][0]         \n",
      "                                                                 block3a_se_expand[0][0]          \n",
      "__________________________________________________________________________________________________\n",
      "block3a_project_conv (Conv2D)   (None, 32, 32, 40)   5760        block3a_se_excite[0][0]          \n",
      "__________________________________________________________________________________________________\n",
      "block3a_project_bn (BatchNormal (None, 32, 32, 40)   160         block3a_project_conv[0][0]       \n",
      "__________________________________________________________________________________________________\n",
      "block3b_expand_conv (Conv2D)    (None, 32, 32, 240)  9600        block3a_project_bn[0][0]         \n",
      "__________________________________________________________________________________________________\n",
      "block3b_expand_bn (BatchNormali (None, 32, 32, 240)  960         block3b_expand_conv[0][0]        \n",
      "__________________________________________________________________________________________________\n",
      "block3b_expand_activation (Acti (None, 32, 32, 240)  0           block3b_expand_bn[0][0]          \n",
      "__________________________________________________________________________________________________\n",
      "block3b_dwconv (DepthwiseConv2D (None, 32, 32, 240)  6000        block3b_expand_activation[0][0]  \n",
      "__________________________________________________________________________________________________\n",
      "block3b_bn (BatchNormalization) (None, 32, 32, 240)  960         block3b_dwconv[0][0]             \n",
      "__________________________________________________________________________________________________\n",
      "block3b_activation (Activation) (None, 32, 32, 240)  0           block3b_bn[0][0]                 \n",
      "__________________________________________________________________________________________________\n",
      "block3b_se_squeeze (GlobalAvera (None, 240)          0           block3b_activation[0][0]         \n",
      "__________________________________________________________________________________________________\n",
      "block3b_se_reshape (Reshape)    (None, 1, 1, 240)    0           block3b_se_squeeze[0][0]         \n",
      "__________________________________________________________________________________________________\n",
      "block3b_se_reduce (Conv2D)      (None, 1, 1, 10)     2410        block3b_se_reshape[0][0]         \n",
      "__________________________________________________________________________________________________\n",
      "block3b_se_expand (Conv2D)      (None, 1, 1, 240)    2640        block3b_se_reduce[0][0]          \n",
      "__________________________________________________________________________________________________\n",
      "block3b_se_excite (Multiply)    (None, 32, 32, 240)  0           block3b_activation[0][0]         \n",
      "                                                                 block3b_se_expand[0][0]          \n",
      "__________________________________________________________________________________________________\n",
      "block3b_project_conv (Conv2D)   (None, 32, 32, 40)   9600        block3b_se_excite[0][0]          \n",
      "__________________________________________________________________________________________________\n",
      "block3b_project_bn (BatchNormal (None, 32, 32, 40)   160         block3b_project_conv[0][0]       \n",
      "__________________________________________________________________________________________________\n",
      "block3b_drop (FixedDropout)     (None, 32, 32, 40)   0           block3b_project_bn[0][0]         \n",
      "__________________________________________________________________________________________________\n",
      "block3b_add (Add)               (None, 32, 32, 40)   0           block3b_drop[0][0]               \n",
      "                                                                 block3a_project_bn[0][0]         \n",
      "__________________________________________________________________________________________________\n",
      "block4a_expand_conv (Conv2D)    (None, 32, 32, 240)  9600        block3b_add[0][0]                \n",
      "__________________________________________________________________________________________________\n",
      "block4a_expand_bn (BatchNormali (None, 32, 32, 240)  960         block4a_expand_conv[0][0]        \n",
      "__________________________________________________________________________________________________\n",
      "block4a_expand_activation (Acti (None, 32, 32, 240)  0           block4a_expand_bn[0][0]          \n",
      "__________________________________________________________________________________________________\n",
      "block4a_dwconv (DepthwiseConv2D (None, 16, 16, 240)  2160        block4a_expand_activation[0][0]  \n",
      "__________________________________________________________________________________________________\n",
      "block4a_bn (BatchNormalization) (None, 16, 16, 240)  960         block4a_dwconv[0][0]             \n",
      "__________________________________________________________________________________________________\n",
      "block4a_activation (Activation) (None, 16, 16, 240)  0           block4a_bn[0][0]                 \n",
      "__________________________________________________________________________________________________\n",
      "block4a_se_squeeze (GlobalAvera (None, 240)          0           block4a_activation[0][0]         \n",
      "__________________________________________________________________________________________________\n",
      "block4a_se_reshape (Reshape)    (None, 1, 1, 240)    0           block4a_se_squeeze[0][0]         \n",
      "__________________________________________________________________________________________________\n",
      "block4a_se_reduce (Conv2D)      (None, 1, 1, 10)     2410        block4a_se_reshape[0][0]         \n",
      "__________________________________________________________________________________________________\n",
      "block4a_se_expand (Conv2D)      (None, 1, 1, 240)    2640        block4a_se_reduce[0][0]          \n",
      "__________________________________________________________________________________________________\n",
      "block4a_se_excite (Multiply)    (None, 16, 16, 240)  0           block4a_activation[0][0]         \n",
      "                                                                 block4a_se_expand[0][0]          \n",
      "__________________________________________________________________________________________________\n",
      "block4a_project_conv (Conv2D)   (None, 16, 16, 80)   19200       block4a_se_excite[0][0]          \n",
      "__________________________________________________________________________________________________\n",
      "block4a_project_bn (BatchNormal (None, 16, 16, 80)   320         block4a_project_conv[0][0]       \n",
      "__________________________________________________________________________________________________\n",
      "block4b_expand_conv (Conv2D)    (None, 16, 16, 480)  38400       block4a_project_bn[0][0]         \n",
      "__________________________________________________________________________________________________\n",
      "block4b_expand_bn (BatchNormali (None, 16, 16, 480)  1920        block4b_expand_conv[0][0]        \n",
      "__________________________________________________________________________________________________\n",
      "block4b_expand_activation (Acti (None, 16, 16, 480)  0           block4b_expand_bn[0][0]          \n",
      "__________________________________________________________________________________________________\n",
      "block4b_dwconv (DepthwiseConv2D (None, 16, 16, 480)  4320        block4b_expand_activation[0][0]  \n",
      "__________________________________________________________________________________________________\n",
      "block4b_bn (BatchNormalization) (None, 16, 16, 480)  1920        block4b_dwconv[0][0]             \n",
      "__________________________________________________________________________________________________\n",
      "block4b_activation (Activation) (None, 16, 16, 480)  0           block4b_bn[0][0]                 \n",
      "__________________________________________________________________________________________________\n",
      "block4b_se_squeeze (GlobalAvera (None, 480)          0           block4b_activation[0][0]         \n",
      "__________________________________________________________________________________________________\n",
      "block4b_se_reshape (Reshape)    (None, 1, 1, 480)    0           block4b_se_squeeze[0][0]         \n",
      "__________________________________________________________________________________________________\n",
      "block4b_se_reduce (Conv2D)      (None, 1, 1, 20)     9620        block4b_se_reshape[0][0]         \n",
      "__________________________________________________________________________________________________\n",
      "block4b_se_expand (Conv2D)      (None, 1, 1, 480)    10080       block4b_se_reduce[0][0]          \n",
      "__________________________________________________________________________________________________\n",
      "block4b_se_excite (Multiply)    (None, 16, 16, 480)  0           block4b_activation[0][0]         \n",
      "                                                                 block4b_se_expand[0][0]          \n",
      "__________________________________________________________________________________________________\n",
      "block4b_project_conv (Conv2D)   (None, 16, 16, 80)   38400       block4b_se_excite[0][0]          \n",
      "__________________________________________________________________________________________________\n",
      "block4b_project_bn (BatchNormal (None, 16, 16, 80)   320         block4b_project_conv[0][0]       \n",
      "__________________________________________________________________________________________________\n",
      "block4b_drop (FixedDropout)     (None, 16, 16, 80)   0           block4b_project_bn[0][0]         \n",
      "__________________________________________________________________________________________________\n",
      "block4b_add (Add)               (None, 16, 16, 80)   0           block4b_drop[0][0]               \n",
      "                                                                 block4a_project_bn[0][0]         \n",
      "__________________________________________________________________________________________________\n",
      "block4c_expand_conv (Conv2D)    (None, 16, 16, 480)  38400       block4b_add[0][0]                \n",
      "__________________________________________________________________________________________________\n",
      "block4c_expand_bn (BatchNormali (None, 16, 16, 480)  1920        block4c_expand_conv[0][0]        \n",
      "__________________________________________________________________________________________________\n",
      "block4c_expand_activation (Acti (None, 16, 16, 480)  0           block4c_expand_bn[0][0]          \n",
      "__________________________________________________________________________________________________\n",
      "block4c_dwconv (DepthwiseConv2D (None, 16, 16, 480)  4320        block4c_expand_activation[0][0]  \n",
      "__________________________________________________________________________________________________\n",
      "block4c_bn (BatchNormalization) (None, 16, 16, 480)  1920        block4c_dwconv[0][0]             \n",
      "__________________________________________________________________________________________________\n",
      "block4c_activation (Activation) (None, 16, 16, 480)  0           block4c_bn[0][0]                 \n",
      "__________________________________________________________________________________________________\n",
      "block4c_se_squeeze (GlobalAvera (None, 480)          0           block4c_activation[0][0]         \n",
      "__________________________________________________________________________________________________\n",
      "block4c_se_reshape (Reshape)    (None, 1, 1, 480)    0           block4c_se_squeeze[0][0]         \n",
      "__________________________________________________________________________________________________\n",
      "block4c_se_reduce (Conv2D)      (None, 1, 1, 20)     9620        block4c_se_reshape[0][0]         \n",
      "__________________________________________________________________________________________________\n",
      "block4c_se_expand (Conv2D)      (None, 1, 1, 480)    10080       block4c_se_reduce[0][0]          \n",
      "__________________________________________________________________________________________________\n",
      "block4c_se_excite (Multiply)    (None, 16, 16, 480)  0           block4c_activation[0][0]         \n",
      "                                                                 block4c_se_expand[0][0]          \n",
      "__________________________________________________________________________________________________\n",
      "block4c_project_conv (Conv2D)   (None, 16, 16, 80)   38400       block4c_se_excite[0][0]          \n",
      "__________________________________________________________________________________________________\n",
      "block4c_project_bn (BatchNormal (None, 16, 16, 80)   320         block4c_project_conv[0][0]       \n",
      "__________________________________________________________________________________________________\n",
      "block4c_drop (FixedDropout)     (None, 16, 16, 80)   0           block4c_project_bn[0][0]         \n",
      "__________________________________________________________________________________________________\n",
      "block4c_add (Add)               (None, 16, 16, 80)   0           block4c_drop[0][0]               \n",
      "                                                                 block4b_add[0][0]                \n",
      "__________________________________________________________________________________________________\n",
      "block5a_expand_conv (Conv2D)    (None, 16, 16, 480)  38400       block4c_add[0][0]                \n",
      "__________________________________________________________________________________________________\n",
      "block5a_expand_bn (BatchNormali (None, 16, 16, 480)  1920        block5a_expand_conv[0][0]        \n",
      "__________________________________________________________________________________________________\n",
      "block5a_expand_activation (Acti (None, 16, 16, 480)  0           block5a_expand_bn[0][0]          \n",
      "__________________________________________________________________________________________________\n",
      "block5a_dwconv (DepthwiseConv2D (None, 16, 16, 480)  12000       block5a_expand_activation[0][0]  \n",
      "__________________________________________________________________________________________________\n",
      "block5a_bn (BatchNormalization) (None, 16, 16, 480)  1920        block5a_dwconv[0][0]             \n",
      "__________________________________________________________________________________________________\n",
      "block5a_activation (Activation) (None, 16, 16, 480)  0           block5a_bn[0][0]                 \n",
      "__________________________________________________________________________________________________\n",
      "block5a_se_squeeze (GlobalAvera (None, 480)          0           block5a_activation[0][0]         \n",
      "__________________________________________________________________________________________________\n",
      "block5a_se_reshape (Reshape)    (None, 1, 1, 480)    0           block5a_se_squeeze[0][0]         \n",
      "__________________________________________________________________________________________________\n",
      "block5a_se_reduce (Conv2D)      (None, 1, 1, 20)     9620        block5a_se_reshape[0][0]         \n",
      "__________________________________________________________________________________________________\n",
      "block5a_se_expand (Conv2D)      (None, 1, 1, 480)    10080       block5a_se_reduce[0][0]          \n",
      "__________________________________________________________________________________________________\n",
      "block5a_se_excite (Multiply)    (None, 16, 16, 480)  0           block5a_activation[0][0]         \n",
      "                                                                 block5a_se_expand[0][0]          \n",
      "__________________________________________________________________________________________________\n",
      "block5a_project_conv (Conv2D)   (None, 16, 16, 112)  53760       block5a_se_excite[0][0]          \n",
      "__________________________________________________________________________________________________\n",
      "block5a_project_bn (BatchNormal (None, 16, 16, 112)  448         block5a_project_conv[0][0]       \n",
      "__________________________________________________________________________________________________\n",
      "block5b_expand_conv (Conv2D)    (None, 16, 16, 672)  75264       block5a_project_bn[0][0]         \n",
      "__________________________________________________________________________________________________\n",
      "block5b_expand_bn (BatchNormali (None, 16, 16, 672)  2688        block5b_expand_conv[0][0]        \n",
      "__________________________________________________________________________________________________\n",
      "block5b_expand_activation (Acti (None, 16, 16, 672)  0           block5b_expand_bn[0][0]          \n",
      "__________________________________________________________________________________________________\n",
      "block5b_dwconv (DepthwiseConv2D (None, 16, 16, 672)  16800       block5b_expand_activation[0][0]  \n",
      "__________________________________________________________________________________________________\n",
      "block5b_bn (BatchNormalization) (None, 16, 16, 672)  2688        block5b_dwconv[0][0]             \n",
      "__________________________________________________________________________________________________\n",
      "block5b_activation (Activation) (None, 16, 16, 672)  0           block5b_bn[0][0]                 \n",
      "__________________________________________________________________________________________________\n",
      "block5b_se_squeeze (GlobalAvera (None, 672)          0           block5b_activation[0][0]         \n",
      "__________________________________________________________________________________________________\n",
      "block5b_se_reshape (Reshape)    (None, 1, 1, 672)    0           block5b_se_squeeze[0][0]         \n",
      "__________________________________________________________________________________________________\n",
      "block5b_se_reduce (Conv2D)      (None, 1, 1, 28)     18844       block5b_se_reshape[0][0]         \n",
      "__________________________________________________________________________________________________\n",
      "block5b_se_expand (Conv2D)      (None, 1, 1, 672)    19488       block5b_se_reduce[0][0]          \n",
      "__________________________________________________________________________________________________\n",
      "block5b_se_excite (Multiply)    (None, 16, 16, 672)  0           block5b_activation[0][0]         \n",
      "                                                                 block5b_se_expand[0][0]          \n",
      "__________________________________________________________________________________________________\n",
      "block5b_project_conv (Conv2D)   (None, 16, 16, 112)  75264       block5b_se_excite[0][0]          \n",
      "__________________________________________________________________________________________________\n",
      "block5b_project_bn (BatchNormal (None, 16, 16, 112)  448         block5b_project_conv[0][0]       \n",
      "__________________________________________________________________________________________________\n",
      "block5b_drop (FixedDropout)     (None, 16, 16, 112)  0           block5b_project_bn[0][0]         \n",
      "__________________________________________________________________________________________________\n",
      "block5b_add (Add)               (None, 16, 16, 112)  0           block5b_drop[0][0]               \n",
      "                                                                 block5a_project_bn[0][0]         \n",
      "__________________________________________________________________________________________________\n",
      "block5c_expand_conv (Conv2D)    (None, 16, 16, 672)  75264       block5b_add[0][0]                \n",
      "__________________________________________________________________________________________________\n",
      "block5c_expand_bn (BatchNormali (None, 16, 16, 672)  2688        block5c_expand_conv[0][0]        \n",
      "__________________________________________________________________________________________________\n",
      "block5c_expand_activation (Acti (None, 16, 16, 672)  0           block5c_expand_bn[0][0]          \n",
      "__________________________________________________________________________________________________\n",
      "block5c_dwconv (DepthwiseConv2D (None, 16, 16, 672)  16800       block5c_expand_activation[0][0]  \n",
      "__________________________________________________________________________________________________\n",
      "block5c_bn (BatchNormalization) (None, 16, 16, 672)  2688        block5c_dwconv[0][0]             \n",
      "__________________________________________________________________________________________________\n",
      "block5c_activation (Activation) (None, 16, 16, 672)  0           block5c_bn[0][0]                 \n",
      "__________________________________________________________________________________________________\n",
      "block5c_se_squeeze (GlobalAvera (None, 672)          0           block5c_activation[0][0]         \n",
      "__________________________________________________________________________________________________\n",
      "block5c_se_reshape (Reshape)    (None, 1, 1, 672)    0           block5c_se_squeeze[0][0]         \n",
      "__________________________________________________________________________________________________\n",
      "block5c_se_reduce (Conv2D)      (None, 1, 1, 28)     18844       block5c_se_reshape[0][0]         \n",
      "__________________________________________________________________________________________________\n",
      "block5c_se_expand (Conv2D)      (None, 1, 1, 672)    19488       block5c_se_reduce[0][0]          \n",
      "__________________________________________________________________________________________________\n",
      "block5c_se_excite (Multiply)    (None, 16, 16, 672)  0           block5c_activation[0][0]         \n",
      "                                                                 block5c_se_expand[0][0]          \n",
      "__________________________________________________________________________________________________\n",
      "block5c_project_conv (Conv2D)   (None, 16, 16, 112)  75264       block5c_se_excite[0][0]          \n",
      "__________________________________________________________________________________________________\n",
      "block5c_project_bn (BatchNormal (None, 16, 16, 112)  448         block5c_project_conv[0][0]       \n",
      "__________________________________________________________________________________________________\n",
      "block5c_drop (FixedDropout)     (None, 16, 16, 112)  0           block5c_project_bn[0][0]         \n",
      "__________________________________________________________________________________________________\n",
      "block5c_add (Add)               (None, 16, 16, 112)  0           block5c_drop[0][0]               \n",
      "                                                                 block5b_add[0][0]                \n",
      "__________________________________________________________________________________________________\n",
      "block6a_expand_conv (Conv2D)    (None, 16, 16, 672)  75264       block5c_add[0][0]                \n",
      "__________________________________________________________________________________________________\n",
      "block6a_expand_bn (BatchNormali (None, 16, 16, 672)  2688        block6a_expand_conv[0][0]        \n",
      "__________________________________________________________________________________________________\n",
      "block6a_expand_activation (Acti (None, 16, 16, 672)  0           block6a_expand_bn[0][0]          \n",
      "__________________________________________________________________________________________________\n",
      "block6a_dwconv (DepthwiseConv2D (None, 8, 8, 672)    16800       block6a_expand_activation[0][0]  \n",
      "__________________________________________________________________________________________________\n",
      "block6a_bn (BatchNormalization) (None, 8, 8, 672)    2688        block6a_dwconv[0][0]             \n",
      "__________________________________________________________________________________________________\n",
      "block6a_activation (Activation) (None, 8, 8, 672)    0           block6a_bn[0][0]                 \n",
      "__________________________________________________________________________________________________\n",
      "block6a_se_squeeze (GlobalAvera (None, 672)          0           block6a_activation[0][0]         \n",
      "__________________________________________________________________________________________________\n",
      "block6a_se_reshape (Reshape)    (None, 1, 1, 672)    0           block6a_se_squeeze[0][0]         \n",
      "__________________________________________________________________________________________________\n",
      "block6a_se_reduce (Conv2D)      (None, 1, 1, 28)     18844       block6a_se_reshape[0][0]         \n",
      "__________________________________________________________________________________________________\n",
      "block6a_se_expand (Conv2D)      (None, 1, 1, 672)    19488       block6a_se_reduce[0][0]          \n",
      "__________________________________________________________________________________________________\n",
      "block6a_se_excite (Multiply)    (None, 8, 8, 672)    0           block6a_activation[0][0]         \n",
      "                                                                 block6a_se_expand[0][0]          \n",
      "__________________________________________________________________________________________________\n",
      "block6a_project_conv (Conv2D)   (None, 8, 8, 192)    129024      block6a_se_excite[0][0]          \n",
      "__________________________________________________________________________________________________\n",
      "block6a_project_bn (BatchNormal (None, 8, 8, 192)    768         block6a_project_conv[0][0]       \n",
      "__________________________________________________________________________________________________\n",
      "block6b_expand_conv (Conv2D)    (None, 8, 8, 1152)   221184      block6a_project_bn[0][0]         \n",
      "__________________________________________________________________________________________________\n",
      "block6b_expand_bn (BatchNormali (None, 8, 8, 1152)   4608        block6b_expand_conv[0][0]        \n",
      "__________________________________________________________________________________________________\n",
      "block6b_expand_activation (Acti (None, 8, 8, 1152)   0           block6b_expand_bn[0][0]          \n",
      "__________________________________________________________________________________________________\n",
      "block6b_dwconv (DepthwiseConv2D (None, 8, 8, 1152)   28800       block6b_expand_activation[0][0]  \n",
      "__________________________________________________________________________________________________\n",
      "block6b_bn (BatchNormalization) (None, 8, 8, 1152)   4608        block6b_dwconv[0][0]             \n",
      "__________________________________________________________________________________________________\n",
      "block6b_activation (Activation) (None, 8, 8, 1152)   0           block6b_bn[0][0]                 \n",
      "__________________________________________________________________________________________________\n",
      "block6b_se_squeeze (GlobalAvera (None, 1152)         0           block6b_activation[0][0]         \n",
      "__________________________________________________________________________________________________\n",
      "block6b_se_reshape (Reshape)    (None, 1, 1, 1152)   0           block6b_se_squeeze[0][0]         \n",
      "__________________________________________________________________________________________________\n",
      "block6b_se_reduce (Conv2D)      (None, 1, 1, 48)     55344       block6b_se_reshape[0][0]         \n",
      "__________________________________________________________________________________________________\n",
      "block6b_se_expand (Conv2D)      (None, 1, 1, 1152)   56448       block6b_se_reduce[0][0]          \n",
      "__________________________________________________________________________________________________\n",
      "block6b_se_excite (Multiply)    (None, 8, 8, 1152)   0           block6b_activation[0][0]         \n",
      "                                                                 block6b_se_expand[0][0]          \n",
      "__________________________________________________________________________________________________\n",
      "block6b_project_conv (Conv2D)   (None, 8, 8, 192)    221184      block6b_se_excite[0][0]          \n",
      "__________________________________________________________________________________________________\n",
      "block6b_project_bn (BatchNormal (None, 8, 8, 192)    768         block6b_project_conv[0][0]       \n",
      "__________________________________________________________________________________________________\n",
      "block6b_drop (FixedDropout)     (None, 8, 8, 192)    0           block6b_project_bn[0][0]         \n",
      "__________________________________________________________________________________________________\n",
      "block6b_add (Add)               (None, 8, 8, 192)    0           block6b_drop[0][0]               \n",
      "                                                                 block6a_project_bn[0][0]         \n",
      "__________________________________________________________________________________________________\n",
      "block6c_expand_conv (Conv2D)    (None, 8, 8, 1152)   221184      block6b_add[0][0]                \n",
      "__________________________________________________________________________________________________\n",
      "block6c_expand_bn (BatchNormali (None, 8, 8, 1152)   4608        block6c_expand_conv[0][0]        \n",
      "__________________________________________________________________________________________________\n",
      "block6c_expand_activation (Acti (None, 8, 8, 1152)   0           block6c_expand_bn[0][0]          \n",
      "__________________________________________________________________________________________________\n",
      "block6c_dwconv (DepthwiseConv2D (None, 8, 8, 1152)   28800       block6c_expand_activation[0][0]  \n",
      "__________________________________________________________________________________________________\n",
      "block6c_bn (BatchNormalization) (None, 8, 8, 1152)   4608        block6c_dwconv[0][0]             \n",
      "__________________________________________________________________________________________________\n",
      "block6c_activation (Activation) (None, 8, 8, 1152)   0           block6c_bn[0][0]                 \n",
      "__________________________________________________________________________________________________\n",
      "block6c_se_squeeze (GlobalAvera (None, 1152)         0           block6c_activation[0][0]         \n",
      "__________________________________________________________________________________________________\n",
      "block6c_se_reshape (Reshape)    (None, 1, 1, 1152)   0           block6c_se_squeeze[0][0]         \n",
      "__________________________________________________________________________________________________\n",
      "block6c_se_reduce (Conv2D)      (None, 1, 1, 48)     55344       block6c_se_reshape[0][0]         \n",
      "__________________________________________________________________________________________________\n",
      "block6c_se_expand (Conv2D)      (None, 1, 1, 1152)   56448       block6c_se_reduce[0][0]          \n",
      "__________________________________________________________________________________________________\n",
      "block6c_se_excite (Multiply)    (None, 8, 8, 1152)   0           block6c_activation[0][0]         \n",
      "                                                                 block6c_se_expand[0][0]          \n",
      "__________________________________________________________________________________________________\n",
      "block6c_project_conv (Conv2D)   (None, 8, 8, 192)    221184      block6c_se_excite[0][0]          \n",
      "__________________________________________________________________________________________________\n",
      "block6c_project_bn (BatchNormal (None, 8, 8, 192)    768         block6c_project_conv[0][0]       \n",
      "__________________________________________________________________________________________________\n",
      "block6c_drop (FixedDropout)     (None, 8, 8, 192)    0           block6c_project_bn[0][0]         \n",
      "__________________________________________________________________________________________________\n",
      "block6c_add (Add)               (None, 8, 8, 192)    0           block6c_drop[0][0]               \n",
      "                                                                 block6b_add[0][0]                \n",
      "__________________________________________________________________________________________________\n",
      "block6d_expand_conv (Conv2D)    (None, 8, 8, 1152)   221184      block6c_add[0][0]                \n",
      "__________________________________________________________________________________________________\n",
      "block6d_expand_bn (BatchNormali (None, 8, 8, 1152)   4608        block6d_expand_conv[0][0]        \n",
      "__________________________________________________________________________________________________\n",
      "block6d_expand_activation (Acti (None, 8, 8, 1152)   0           block6d_expand_bn[0][0]          \n",
      "__________________________________________________________________________________________________\n",
      "block6d_dwconv (DepthwiseConv2D (None, 8, 8, 1152)   28800       block6d_expand_activation[0][0]  \n",
      "__________________________________________________________________________________________________\n",
      "block6d_bn (BatchNormalization) (None, 8, 8, 1152)   4608        block6d_dwconv[0][0]             \n",
      "__________________________________________________________________________________________________\n",
      "block6d_activation (Activation) (None, 8, 8, 1152)   0           block6d_bn[0][0]                 \n",
      "__________________________________________________________________________________________________\n",
      "block6d_se_squeeze (GlobalAvera (None, 1152)         0           block6d_activation[0][0]         \n",
      "__________________________________________________________________________________________________\n",
      "block6d_se_reshape (Reshape)    (None, 1, 1, 1152)   0           block6d_se_squeeze[0][0]         \n",
      "__________________________________________________________________________________________________\n",
      "block6d_se_reduce (Conv2D)      (None, 1, 1, 48)     55344       block6d_se_reshape[0][0]         \n",
      "__________________________________________________________________________________________________\n",
      "block6d_se_expand (Conv2D)      (None, 1, 1, 1152)   56448       block6d_se_reduce[0][0]          \n",
      "__________________________________________________________________________________________________\n",
      "block6d_se_excite (Multiply)    (None, 8, 8, 1152)   0           block6d_activation[0][0]         \n",
      "                                                                 block6d_se_expand[0][0]          \n",
      "__________________________________________________________________________________________________\n",
      "block6d_project_conv (Conv2D)   (None, 8, 8, 192)    221184      block6d_se_excite[0][0]          \n",
      "__________________________________________________________________________________________________\n",
      "block6d_project_bn (BatchNormal (None, 8, 8, 192)    768         block6d_project_conv[0][0]       \n",
      "__________________________________________________________________________________________________\n",
      "block6d_drop (FixedDropout)     (None, 8, 8, 192)    0           block6d_project_bn[0][0]         \n",
      "__________________________________________________________________________________________________\n",
      "block6d_add (Add)               (None, 8, 8, 192)    0           block6d_drop[0][0]               \n",
      "                                                                 block6c_add[0][0]                \n",
      "__________________________________________________________________________________________________\n",
      "block7a_expand_conv (Conv2D)    (None, 8, 8, 1152)   221184      block6d_add[0][0]                \n",
      "__________________________________________________________________________________________________\n",
      "block7a_expand_bn (BatchNormali (None, 8, 8, 1152)   4608        block7a_expand_conv[0][0]        \n",
      "__________________________________________________________________________________________________\n",
      "block7a_expand_activation (Acti (None, 8, 8, 1152)   0           block7a_expand_bn[0][0]          \n",
      "__________________________________________________________________________________________________\n",
      "block7a_dwconv (DepthwiseConv2D (None, 8, 8, 1152)   10368       block7a_expand_activation[0][0]  \n",
      "__________________________________________________________________________________________________\n",
      "block7a_bn (BatchNormalization) (None, 8, 8, 1152)   4608        block7a_dwconv[0][0]             \n",
      "__________________________________________________________________________________________________\n",
      "block7a_activation (Activation) (None, 8, 8, 1152)   0           block7a_bn[0][0]                 \n",
      "__________________________________________________________________________________________________\n",
      "block7a_se_squeeze (GlobalAvera (None, 1152)         0           block7a_activation[0][0]         \n",
      "__________________________________________________________________________________________________\n",
      "block7a_se_reshape (Reshape)    (None, 1, 1, 1152)   0           block7a_se_squeeze[0][0]         \n",
      "__________________________________________________________________________________________________\n",
      "block7a_se_reduce (Conv2D)      (None, 1, 1, 48)     55344       block7a_se_reshape[0][0]         \n",
      "__________________________________________________________________________________________________\n",
      "block7a_se_expand (Conv2D)      (None, 1, 1, 1152)   56448       block7a_se_reduce[0][0]          \n",
      "__________________________________________________________________________________________________\n",
      "block7a_se_excite (Multiply)    (None, 8, 8, 1152)   0           block7a_activation[0][0]         \n",
      "                                                                 block7a_se_expand[0][0]          \n",
      "__________________________________________________________________________________________________\n",
      "block7a_project_conv (Conv2D)   (None, 8, 8, 320)    368640      block7a_se_excite[0][0]          \n",
      "__________________________________________________________________________________________________\n",
      "block7a_project_bn (BatchNormal (None, 8, 8, 320)    1280        block7a_project_conv[0][0]       \n",
      "__________________________________________________________________________________________________\n",
      "top_conv (Conv2D)               (None, 8, 8, 1280)   409600      block7a_project_bn[0][0]         \n",
      "__________________________________________________________________________________________________\n",
      "top_bn (BatchNormalization)     (None, 8, 8, 1280)   5120        top_conv[0][0]                   \n",
      "__________________________________________________________________________________________________\n",
      "top_activation (Activation)     (None, 8, 8, 1280)   0           top_bn[0][0]                     \n",
      "__________________________________________________________________________________________________\n",
      "global_average_pooling2d_1 (Glo (None, 1280)         0           top_activation[0][0]             \n",
      "__________________________________________________________________________________________________\n",
      "dense_1 (Dense)                 (None, 2)            2562        global_average_pooling2d_1[0][0] \n",
      "==================================================================================================\n",
      "Total params: 4,052,126\n",
      "Trainable params: 4,010,110\n",
      "Non-trainable params: 42,016\n",
      "__________________________________________________________________________________________________\n"
     ]
    }
   ],
   "source": [
    "def effnet():\n",
    "    # build model\n",
    "    base_model = EfficientNetB0(input_shape=(IMAGE_SIZE,IMAGE_SIZE,3), weights='imagenet', include_top=False)\n",
    "    \n",
    "    # add GAP layer and 2-ways softmax\n",
    "    x = keras.layers.GlobalAveragePooling2D()(base_model.output)\n",
    "    output = keras.layers.Dense(2, activation='softmax')(x)\n",
    "    \n",
    "    model = keras.models.Model(inputs=[base_model.input], outputs=[output])\n",
    "    model.compile(optimizer='SGD', loss='binary_crossentropy', metrics=['accuracy', f1])\n",
    "    return model\n",
    "\n",
    "\n",
    "model=None\n",
    "model=effnet()\n",
    "model.summary()"
   ]
  },
  {
   "cell_type": "code",
   "execution_count": 8,
   "metadata": {},
   "outputs": [
    {
     "data": {
      "text/plain": [
       "232"
      ]
     },
     "execution_count": 8,
     "metadata": {},
     "output_type": "execute_result"
    }
   ],
   "source": [
    "#for l in model.layers:\n",
    "#    print(l.trainable)\n",
    "len(model.layers)"
   ]
  },
  {
   "cell_type": "code",
   "execution_count": 9,
   "metadata": {},
   "outputs": [],
   "source": [
    "# load weights for retraining\n",
    "#from keras.models import load_model\n",
    "\n",
    "# exp name and path of weight file which we want to retrain\n",
    "#EXP_NAME = \"VGG_EXP_4_BALANCE_AND_RAW_PRELIM_TEST_LAST_LAYER\"\n",
    "#EXP_PATH = os.path.join(LOG_PATH, EXP_NAME)\n",
    "#path_model= '{}/{}.h5'.format(EXP_PATH, EXP_NAME)  \n",
    "\n",
    "# load model\n",
    "#model = load_model(path_model, custom_objects={'f1':f1})\n",
    "# unfreeze\n",
    "#for layer in model.layers:\n",
    " #       layer.trainable=True\n",
    "#compile\n",
    "#model.compile(optimizer='adadelta', loss='binary_crossentropy', metrics=['accuracy', f1])\n",
    "\n",
    "#model.summary()"
   ]
  },
  {
   "cell_type": "code",
   "execution_count": 10,
   "metadata": {
    "colab": {
     "base_uri": "https://localhost:8080/",
     "height": 35
    },
    "colab_type": "code",
    "id": "4ZqXHwe37gRF",
    "outputId": "fc7e5da8-d90e-4859-ab09-8faaea7590b1"
   },
   "outputs": [],
   "source": [
    "#x_train, x_val, y_train, y_val = train_test_split(x_all, y_all, test_size=0.1, random_state=1)\n",
    "#print(x_train.shape, x_val.shape, y_train.shape, y_val.shape)"
   ]
  },
  {
   "cell_type": "code",
   "execution_count": 11,
   "metadata": {},
   "outputs": [
    {
     "data": {
      "text/plain": [
       "((20439, 256, 256, 3), (20439, 2), (1867, 256, 256, 3), (1867, 2))"
      ]
     },
     "execution_count": 11,
     "metadata": {},
     "output_type": "execute_result"
    }
   ],
   "source": [
    "x_train.shape, y_train.shape, x_val.shape, y_val.shape"
   ]
  },
  {
   "cell_type": "code",
   "execution_count": 12,
   "metadata": {},
   "outputs": [],
   "source": [
    "import pylab\n",
    "def show_images(images, cols = 1, titles = None, save_fig = \"default\"):\n",
    "    \"\"\"Display a list of images in a single figure with matplotlib.\n",
    "    \n",
    "    Parameters\n",
    "    ---------\n",
    "    images: List of np.arrays compatible with plt.imshow.\n",
    "    \n",
    "    cols (Default = 1): Number of columns in figure (number of rows is \n",
    "                        set to np.ceil(n_images/float(cols))).\n",
    "    \n",
    "    titles: List of titles corresponding to each image. Must have\n",
    "            the same length as titles.\n",
    "    \"\"\"\n",
    "    assert((titles is None)or (len(images) == len(titles)))\n",
    "    n_images = len(images)\n",
    "    if titles is None: titles = ['Image (%d)' % i for i in range(1,n_images + 1)]\n",
    "    fig = plt.figure()\n",
    "    #fig.set_title(\"Samples of infected red blood cells\")\n",
    "    \n",
    "    for n, (image, title) in enumerate(zip(images, titles)):\n",
    "        a = fig.add_subplot(cols, np.ceil(n_images/float(cols)), n + 1)\n",
    "        if image.ndim == 2:\n",
    "            plt.gray()\n",
    "        plt.imshow(image)\n",
    "        plt.axis(\"off\")\n",
    "        a.set_title(title)\n",
    "    fig.set_size_inches(np.array(fig.get_size_inches()) * n_images)\n",
    "    #plt.savefig('{}'.format(save_fig), dpi=50)\n",
    "    plt.show()"
   ]
  },
  {
   "cell_type": "code",
   "execution_count": 13,
   "metadata": {},
   "outputs": [
    {
     "name": "stdout",
     "output_type": "stream",
     "text": [
      "EFFNET_EXP_21_HIGH_CROP_BCE_ALL_LAYER_MONITOR_VALACC_DG_LR001_200epochs\n"
     ]
    }
   ],
   "source": [
    "#show_images(x_train[-20:], cols = 4, titles = None, save_fig=\"Images\")\n",
    "EXP_NAME = \"EFFNET_EXP_21_HIGH_CROP_BCE_ALL_LAYER_MONITOR_VALACC_DG_LR001_200epochs\"\n",
    "helpers.create_directory(\"{}/{}\".format(LOG_PATH, EXP_NAME))\n",
    "EXP_PATH = os.path.join(LOG_PATH, EXP_NAME)\n",
    "path_model= '{}/{}.h5'.format(EXP_PATH, EXP_NAME) \n",
    "\n",
    "print (EXP_NAME)"
   ]
  },
  {
   "cell_type": "code",
   "execution_count": 14,
   "metadata": {
    "scrolled": true
   },
   "outputs": [
    {
     "name": "stdout",
     "output_type": "stream",
     "text": [
      "['EFFNET_EXP_21_HIGH_CROP_BCE_ALL_LAYER_MONITOR_VALACC_DG_LR001_200epochs']\n",
      "WARNING:tensorflow:From C:\\Users\\My PC\\anaconda3\\envs\\PythonGPU\\lib\\site-packages\\keras\\backend\\tensorflow_backend.py:986: The name tf.assign_add is deprecated. Please use tf.compat.v1.assign_add instead.\n",
      "\n",
      "WARNING:tensorflow:From C:\\Users\\My PC\\anaconda3\\envs\\PythonGPU\\lib\\site-packages\\keras\\backend\\tensorflow_backend.py:973: The name tf.assign is deprecated. Please use tf.compat.v1.assign instead.\n",
      "\n",
      "Epoch 1/100\n",
      "1278/1277 [==============================] - 255s 200ms/step - loss: 0.3714 - acc: 0.8344 - f1: 0.8286 - val_loss: 0.7897 - val_acc: 0.5238 - val_f1: 0.3074\n",
      "Epoch 2/100\n",
      "1278/1277 [==============================] - 244s 191ms/step - loss: 0.2490 - acc: 0.8953 - f1: 0.8907 - val_loss: 0.5876 - val_acc: 0.6652 - val_f1: 0.3894\n",
      "Epoch 3/100\n",
      "1278/1277 [==============================] - 244s 191ms/step - loss: 0.2012 - acc: 0.9186 - f1: 0.9142 - val_loss: 0.6833 - val_acc: 0.6508 - val_f1: 0.3787\n",
      "Epoch 4/100\n",
      "1278/1277 [==============================] - 244s 191ms/step - loss: 0.1721 - acc: 0.9317 - f1: 0.9280 - val_loss: 0.5187 - val_acc: 0.7552 - val_f1: 0.4257\n",
      "Epoch 5/100\n",
      "1278/1277 [==============================] - 248s 194ms/step - loss: 0.1503 - acc: 0.9397 - f1: 0.9358 - val_loss: 0.8858 - val_acc: 0.6535 - val_f1: 0.3821\n",
      "Epoch 6/100\n",
      "1278/1277 [==============================] - 253s 198ms/step - loss: 0.1326 - acc: 0.9493 - f1: 0.9464 - val_loss: 0.7987 - val_acc: 0.6717 - val_f1: 0.3895\n",
      "Epoch 7/100\n",
      "1278/1277 [==============================] - 248s 194ms/step - loss: 0.1239 - acc: 0.9522 - f1: 0.9488 - val_loss: 1.0045 - val_acc: 0.6492 - val_f1: 0.3762\n",
      "Epoch 8/100\n",
      "1278/1277 [==============================] - 247s 193ms/step - loss: 0.1097 - acc: 0.9582 - f1: 0.9554 - val_loss: 0.9781 - val_acc: 0.5961 - val_f1: 0.3630\n",
      "Epoch 9/100\n",
      "1278/1277 [==============================] - 246s 193ms/step - loss: 0.1051 - acc: 0.9595 - f1: 0.9566 - val_loss: 0.6483 - val_acc: 0.7322 - val_f1: 0.4160\n",
      "Epoch 10/100\n",
      "1278/1277 [==============================] - 247s 193ms/step - loss: 0.0949 - acc: 0.9639 - f1: 0.9615 - val_loss: 1.0647 - val_acc: 0.6861 - val_f1: 0.3829\n",
      "Epoch 11/100\n",
      "1278/1277 [==============================] - 280s 219ms/step - loss: 0.0888 - acc: 0.9649 - f1: 0.9627 - val_loss: 1.1037 - val_acc: 0.5774 - val_f1: 0.3546\n",
      "Epoch 12/100\n",
      "1278/1277 [==============================] - 302s 236ms/step - loss: 0.0815 - acc: 0.9685 - f1: 0.9658 - val_loss: 1.4386 - val_acc: 0.5651 - val_f1: 0.3410\n",
      "Epoch 13/100\n",
      "1278/1277 [==============================] - 294s 230ms/step - loss: 0.0818 - acc: 0.9687 - f1: 0.9664 - val_loss: 0.8749 - val_acc: 0.6952 - val_f1: 0.3956\n",
      "Epoch 14/100\n",
      "1278/1277 [==============================] - 295s 231ms/step - loss: 0.0681 - acc: 0.9727 - f1: 0.9710 - val_loss: 0.9067 - val_acc: 0.6984 - val_f1: 0.4045\n",
      "Epoch 15/100\n",
      "1278/1277 [==============================] - 292s 229ms/step - loss: 0.0713 - acc: 0.9725 - f1: 0.9702 - val_loss: 0.5971 - val_acc: 0.7858 - val_f1: 0.4353\n",
      "Epoch 16/100\n",
      "1278/1277 [==============================] - 300s 235ms/step - loss: 0.0623 - acc: 0.9770 - f1: 0.9753 - val_loss: 1.0695 - val_acc: 0.6845 - val_f1: 0.3988\n",
      "Epoch 17/100\n",
      "1278/1277 [==============================] - 301s 235ms/step - loss: 0.0617 - acc: 0.9774 - f1: 0.9756 - val_loss: 1.1516 - val_acc: 0.6454 - val_f1: 0.3813\n",
      "Epoch 18/100\n",
      "1278/1277 [==============================] - 294s 230ms/step - loss: 0.0559 - acc: 0.9800 - f1: 0.9781 - val_loss: 1.1320 - val_acc: 0.6952 - val_f1: 0.3976\n",
      "Epoch 19/100\n",
      "1278/1277 [==============================] - 300s 234ms/step - loss: 0.0540 - acc: 0.9791 - f1: 0.9774 - val_loss: 1.1640 - val_acc: 0.6513 - val_f1: 0.3865\n",
      "Epoch 20/100\n",
      "1278/1277 [==============================] - 298s 233ms/step - loss: 0.0522 - acc: 0.9810 - f1: 0.9794 - val_loss: 1.7892 - val_acc: 0.5742 - val_f1: 0.3393\n",
      "Epoch 21/100\n",
      "1278/1277 [==============================] - 295s 231ms/step - loss: 0.0478 - acc: 0.9817 - f1: 0.9802 - val_loss: 0.9265 - val_acc: 0.6626 - val_f1: 0.3849\n",
      "Epoch 22/100\n",
      "1278/1277 [==============================] - 294s 230ms/step - loss: 0.0468 - acc: 0.9815 - f1: 0.9798 - val_loss: 1.7003 - val_acc: 0.5410 - val_f1: 0.3367\n",
      "Epoch 23/100\n",
      "1278/1277 [==============================] - 292s 228ms/step - loss: 0.0440 - acc: 0.9836 - f1: 0.9820 - val_loss: 1.0617 - val_acc: 0.6786 - val_f1: 0.3939\n",
      "Epoch 24/100\n",
      "1278/1277 [==============================] - 292s 228ms/step - loss: 0.0427 - acc: 0.9838 - f1: 0.9827 - val_loss: 1.2505 - val_acc: 0.6674 - val_f1: 0.3900\n",
      "Epoch 25/100\n",
      "1278/1277 [==============================] - 293s 230ms/step - loss: 0.0408 - acc: 0.9847 - f1: 0.9837 - val_loss: 1.2094 - val_acc: 0.6872 - val_f1: 0.3995\n",
      "Epoch 26/100\n",
      "1278/1277 [==============================] - 294s 230ms/step - loss: 0.0364 - acc: 0.9874 - f1: 0.9863 - val_loss: 1.0895 - val_acc: 0.7183 - val_f1: 0.4105\n",
      "Epoch 27/100\n",
      "1278/1277 [==============================] - 302s 237ms/step - loss: 0.0313 - acc: 0.9895 - f1: 0.9888 - val_loss: 1.2888 - val_acc: 0.6197 - val_f1: 0.3744\n",
      "Epoch 28/100\n",
      "1278/1277 [==============================] - 300s 235ms/step - loss: 0.0348 - acc: 0.9859 - f1: 0.9847 - val_loss: 1.3437 - val_acc: 0.6020 - val_f1: 0.3616\n",
      "Epoch 29/100\n",
      "1278/1277 [==============================] - 293s 229ms/step - loss: 0.0327 - acc: 0.9885 - f1: 0.9875 - val_loss: 1.3848 - val_acc: 0.6433 - val_f1: 0.3837\n",
      "Epoch 30/100\n",
      "1278/1277 [==============================] - 292s 229ms/step - loss: 0.0297 - acc: 0.9890 - f1: 0.9881 - val_loss: 0.9740 - val_acc: 0.7370 - val_f1: 0.4190\n",
      "Epoch 31/100\n",
      "1278/1277 [==============================] - 292s 228ms/step - loss: 0.0304 - acc: 0.9889 - f1: 0.9879 - val_loss: 0.9423 - val_acc: 0.7054 - val_f1: 0.4050\n",
      "Epoch 32/100\n",
      "1278/1277 [==============================] - 298s 233ms/step - loss: 0.0257 - acc: 0.9906 - f1: 0.9896 - val_loss: 1.7478 - val_acc: 0.6229 - val_f1: 0.3748\n",
      "Epoch 33/100\n",
      "1278/1277 [==============================] - 297s 233ms/step - loss: 0.0300 - acc: 0.9888 - f1: 0.9879 - val_loss: 1.6307 - val_acc: 0.6085 - val_f1: 0.3687\n",
      "Epoch 34/100\n",
      "1278/1277 [==============================] - 295s 231ms/step - loss: 0.0288 - acc: 0.9888 - f1: 0.9877 - val_loss: 1.2556 - val_acc: 0.6556 - val_f1: 0.3856\n",
      "Epoch 35/100\n",
      "1278/1277 [==============================] - 293s 229ms/step - loss: 0.0208 - acc: 0.9926 - f1: 0.9917 - val_loss: 1.7061 - val_acc: 0.6310 - val_f1: 0.3737\n",
      "Epoch 36/100\n",
      "1278/1277 [==============================] - 293s 229ms/step - loss: 0.0240 - acc: 0.9909 - f1: 0.9898 - val_loss: 1.6885 - val_acc: 0.6240 - val_f1: 0.3744\n",
      "Epoch 37/100\n",
      "1278/1277 [==============================] - 293s 229ms/step - loss: 0.0204 - acc: 0.9925 - f1: 0.9919 - val_loss: 1.5454 - val_acc: 0.6620 - val_f1: 0.3831\n",
      "Epoch 38/100\n",
      "1278/1277 [==============================] - 293s 229ms/step - loss: 0.0205 - acc: 0.9929 - f1: 0.9924 - val_loss: 1.1690 - val_acc: 0.7242 - val_f1: 0.4080\n",
      "Epoch 39/100\n",
      "1278/1277 [==============================] - 292s 229ms/step - loss: 0.0223 - acc: 0.9922 - f1: 0.9913 - val_loss: 1.3031 - val_acc: 0.6899 - val_f1: 0.4015\n",
      "Epoch 40/100\n",
      "1278/1277 [==============================] - 292s 228ms/step - loss: 0.0211 - acc: 0.9925 - f1: 0.9919 - val_loss: 1.2921 - val_acc: 0.6851 - val_f1: 0.3979\n",
      "Epoch 41/100\n",
      "1278/1277 [==============================] - 292s 228ms/step - loss: 0.0178 - acc: 0.9935 - f1: 0.9930 - val_loss: 1.8390 - val_acc: 0.5624 - val_f1: 0.3490\n",
      "Epoch 42/100\n",
      "1278/1277 [==============================] - 293s 230ms/step - loss: 0.0191 - acc: 0.9938 - f1: 0.9933 - val_loss: 1.3331 - val_acc: 0.6931 - val_f1: 0.4026\n",
      "Epoch 43/100\n",
      "1278/1277 [==============================] - 292s 228ms/step - loss: 0.0172 - acc: 0.9937 - f1: 0.9933 - val_loss: 1.4714 - val_acc: 0.6743 - val_f1: 0.3870\n",
      "Epoch 44/100\n",
      "1278/1277 [==============================] - 292s 228ms/step - loss: 0.0160 - acc: 0.9945 - f1: 0.9938 - val_loss: 1.0704 - val_acc: 0.7525 - val_f1: 0.4152\n",
      "Epoch 45/100\n",
      "1278/1277 [==============================] - 292s 228ms/step - loss: 0.0189 - acc: 0.9931 - f1: 0.9925 - val_loss: 1.7624 - val_acc: 0.5870 - val_f1: 0.3587\n",
      "Epoch 46/100\n",
      "1278/1277 [==============================] - 292s 228ms/step - loss: 0.0155 - acc: 0.9945 - f1: 0.9940 - val_loss: 1.5087 - val_acc: 0.6845 - val_f1: 0.3943\n",
      "Epoch 47/100\n",
      "1278/1277 [==============================] - 292s 228ms/step - loss: 0.0167 - acc: 0.9943 - f1: 0.9937 - val_loss: 1.4842 - val_acc: 0.6567 - val_f1: 0.3879\n",
      "Epoch 48/100\n",
      "1278/1277 [==============================] - 292s 229ms/step - loss: 0.0151 - acc: 0.9948 - f1: 0.9944 - val_loss: 2.0226 - val_acc: 0.5753 - val_f1: 0.3549\n",
      "Epoch 49/100\n",
      "1278/1277 [==============================] - 295s 231ms/step - loss: 0.0166 - acc: 0.9942 - f1: 0.9936 - val_loss: 1.3080 - val_acc: 0.7038 - val_f1: 0.4044\n",
      "Epoch 50/100\n",
      "1278/1277 [==============================] - 328s 257ms/step - loss: 0.0158 - acc: 0.9949 - f1: 0.9943 - val_loss: 1.3873 - val_acc: 0.6717 - val_f1: 0.3935\n",
      "Epoch 51/100\n",
      "1278/1277 [==============================] - 325s 254ms/step - loss: 0.0188 - acc: 0.9934 - f1: 0.9929 - val_loss: 1.4387 - val_acc: 0.6786 - val_f1: 0.3970\n",
      "Epoch 52/100\n",
      "1278/1277 [==============================] - 341s 267ms/step - loss: 0.0137 - acc: 0.9953 - f1: 0.9950 - val_loss: 1.2737 - val_acc: 0.6786 - val_f1: 0.3945\n",
      "Epoch 53/100\n",
      "1278/1277 [==============================] - 335s 262ms/step - loss: 0.0178 - acc: 0.9940 - f1: 0.9933 - val_loss: 1.7578 - val_acc: 0.6267 - val_f1: 0.3739\n",
      "Epoch 54/100\n",
      "1278/1277 [==============================] - 327s 256ms/step - loss: 0.0142 - acc: 0.9950 - f1: 0.9941 - val_loss: 1.8672 - val_acc: 0.6315 - val_f1: 0.3688\n",
      "Epoch 55/100\n",
      "1278/1277 [==============================] - 324s 254ms/step - loss: 0.0126 - acc: 0.9957 - f1: 0.9953 - val_loss: 1.5645 - val_acc: 0.6802 - val_f1: 0.3986\n",
      "Epoch 56/100\n",
      "1278/1277 [==============================] - 322s 252ms/step - loss: 0.0112 - acc: 0.9959 - f1: 0.9957 - val_loss: 1.8486 - val_acc: 0.6192 - val_f1: 0.3720\n",
      "Epoch 57/100\n",
      "1278/1277 [==============================] - 324s 253ms/step - loss: 0.0137 - acc: 0.9954 - f1: 0.9948 - val_loss: 1.4387 - val_acc: 0.6888 - val_f1: 0.4013\n",
      "Epoch 58/100\n",
      "1278/1277 [==============================] - 323s 253ms/step - loss: 0.0118 - acc: 0.9958 - f1: 0.9955 - val_loss: 1.4039 - val_acc: 0.7124 - val_f1: 0.4101\n",
      "Epoch 59/100\n",
      "1278/1277 [==============================] - 324s 254ms/step - loss: 0.0157 - acc: 0.9943 - f1: 0.9936 - val_loss: 1.4685 - val_acc: 0.6668 - val_f1: 0.3925\n",
      "Epoch 60/100\n",
      "1278/1277 [==============================] - 326s 255ms/step - loss: 0.0105 - acc: 0.9960 - f1: 0.9957 - val_loss: 1.6254 - val_acc: 0.6829 - val_f1: 0.3937\n",
      "Epoch 61/100\n",
      "1278/1277 [==============================] - 322s 252ms/step - loss: 0.0115 - acc: 0.9961 - f1: 0.9958 - val_loss: 1.9921 - val_acc: 0.5919 - val_f1: 0.3596\n",
      "Epoch 62/100\n",
      "1278/1277 [==============================] - 326s 255ms/step - loss: 0.0137 - acc: 0.9947 - f1: 0.9942 - val_loss: 1.2072 - val_acc: 0.7274 - val_f1: 0.4130\n",
      "Epoch 63/100\n",
      "1278/1277 [==============================] - 324s 253ms/step - loss: 0.0098 - acc: 0.9970 - f1: 0.9966 - val_loss: 1.2458 - val_acc: 0.7151 - val_f1: 0.4097\n",
      "Epoch 64/100\n",
      "1278/1277 [==============================] - 328s 257ms/step - loss: 0.0096 - acc: 0.9963 - f1: 0.9961 - val_loss: 1.4531 - val_acc: 0.7252 - val_f1: 0.4145\n",
      "Epoch 65/100\n",
      "1278/1277 [==============================] - 335s 262ms/step - loss: 0.0101 - acc: 0.9961 - f1: 0.9957 - val_loss: 1.6393 - val_acc: 0.7092 - val_f1: 0.3986\n",
      "Epoch 66/100\n",
      "1278/1277 [==============================] - 330s 258ms/step - loss: 0.0118 - acc: 0.9958 - f1: 0.9954 - val_loss: 1.1753 - val_acc: 0.7354 - val_f1: 0.4172\n",
      "Epoch 67/100\n",
      "1278/1277 [==============================] - 323s 253ms/step - loss: 0.0084 - acc: 0.9970 - f1: 0.9968 - val_loss: 1.9158 - val_acc: 0.6465 - val_f1: 0.3837\n",
      "Epoch 68/100\n",
      "1278/1277 [==============================] - 331s 259ms/step - loss: 0.0098 - acc: 0.9966 - f1: 0.9962 - val_loss: 1.7898 - val_acc: 0.6668 - val_f1: 0.3928\n",
      "Epoch 69/100\n",
      "1278/1277 [==============================] - 334s 261ms/step - loss: 0.0103 - acc: 0.9958 - f1: 0.9955 - val_loss: 1.9454 - val_acc: 0.6411 - val_f1: 0.3793\n",
      "Epoch 70/100\n",
      "1278/1277 [==============================] - 334s 261ms/step - loss: 0.0110 - acc: 0.9957 - f1: 0.9953 - val_loss: 1.3266 - val_acc: 0.7354 - val_f1: 0.4151\n",
      "Epoch 71/100\n",
      "1278/1277 [==============================] - 341s 267ms/step - loss: 0.0092 - acc: 0.9970 - f1: 0.9967 - val_loss: 1.3545 - val_acc: 0.7386 - val_f1: 0.4144\n",
      "Epoch 72/100\n",
      "1278/1277 [==============================] - 337s 264ms/step - loss: 0.0102 - acc: 0.9959 - f1: 0.9956 - val_loss: 1.4126 - val_acc: 0.6845 - val_f1: 0.3992\n",
      "Epoch 73/100\n",
      "1278/1277 [==============================] - 335s 262ms/step - loss: 0.0092 - acc: 0.9969 - f1: 0.9966 - val_loss: 1.2591 - val_acc: 0.7279 - val_f1: 0.4159\n",
      "Epoch 74/100\n",
      "1278/1277 [==============================] - 330s 258ms/step - loss: 0.0086 - acc: 0.9970 - f1: 0.9968 - val_loss: 1.4061 - val_acc: 0.6754 - val_f1: 0.3950\n",
      "Epoch 75/100\n",
      "1278/1277 [==============================] - 323s 253ms/step - loss: 0.0076 - acc: 0.9971 - f1: 0.9969 - val_loss: 1.6011 - val_acc: 0.6738 - val_f1: 0.3951\n",
      "Epoch 76/100\n",
      "1278/1277 [==============================] - 336s 263ms/step - loss: 0.0073 - acc: 0.9974 - f1: 0.9968 - val_loss: 2.2286 - val_acc: 0.6283 - val_f1: 0.3756\n",
      "Epoch 77/100\n",
      "1278/1277 [==============================] - 332s 260ms/step - loss: 0.0079 - acc: 0.9972 - f1: 0.9969 - val_loss: 2.0869 - val_acc: 0.6310 - val_f1: 0.3724\n",
      "Epoch 78/100\n",
      "1278/1277 [==============================] - 331s 259ms/step - loss: 0.0057 - acc: 0.9981 - f1: 0.9979 - val_loss: 1.7631 - val_acc: 0.6824 - val_f1: 0.3948\n",
      "Epoch 79/100\n",
      "1278/1277 [==============================] - 331s 259ms/step - loss: 0.0091 - acc: 0.9968 - f1: 0.9965 - val_loss: 1.4669 - val_acc: 0.7151 - val_f1: 0.4104\n",
      "Epoch 80/100\n",
      "1278/1277 [==============================] - 330s 259ms/step - loss: 0.0088 - acc: 0.9970 - f1: 0.9967 - val_loss: 1.4870 - val_acc: 0.7102 - val_f1: 0.4046\n",
      "Epoch 81/100\n",
      "1278/1277 [==============================] - 326s 255ms/step - loss: 0.0081 - acc: 0.9976 - f1: 0.9974 - val_loss: 1.4156 - val_acc: 0.7279 - val_f1: 0.4104\n",
      "Epoch 82/100\n",
      "1278/1277 [==============================] - 326s 255ms/step - loss: 0.0087 - acc: 0.9969 - f1: 0.9967 - val_loss: 1.6597 - val_acc: 0.6760 - val_f1: 0.3922\n",
      "Epoch 83/100\n",
      "1278/1277 [==============================] - 332s 259ms/step - loss: 0.0067 - acc: 0.9979 - f1: 0.9977 - val_loss: 2.0873 - val_acc: 0.5945 - val_f1: 0.3544\n",
      "Epoch 84/100\n",
      "1278/1277 [==============================] - 331s 259ms/step - loss: 0.0063 - acc: 0.9978 - f1: 0.9974 - val_loss: 1.6223 - val_acc: 0.6931 - val_f1: 0.3986\n",
      "Epoch 85/100\n",
      "1278/1277 [==============================] - 332s 260ms/step - loss: 0.0072 - acc: 0.9975 - f1: 0.9972 - val_loss: 1.3342 - val_acc: 0.7306 - val_f1: 0.4162\n",
      "Epoch 86/100\n",
      "1278/1277 [==============================] - 329s 257ms/step - loss: 0.0067 - acc: 0.9975 - f1: 0.9969 - val_loss: 1.2411 - val_acc: 0.7225 - val_f1: 0.4138\n",
      "Epoch 87/100\n",
      "1278/1277 [==============================] - 328s 257ms/step - loss: 0.0072 - acc: 0.9974 - f1: 0.9973 - val_loss: 1.7440 - val_acc: 0.6845 - val_f1: 0.3972\n",
      "Epoch 88/100\n",
      "1278/1277 [==============================] - 323s 253ms/step - loss: 0.0065 - acc: 0.9975 - f1: 0.9973 - val_loss: 2.0732 - val_acc: 0.6240 - val_f1: 0.3736\n",
      "Epoch 89/100\n",
      "1278/1277 [==============================] - 326s 255ms/step - loss: 0.0078 - acc: 0.9974 - f1: 0.9973 - val_loss: 1.7441 - val_acc: 0.6829 - val_f1: 0.3982\n",
      "Epoch 90/100\n",
      "1278/1277 [==============================] - 327s 256ms/step - loss: 0.0066 - acc: 0.9977 - f1: 0.9975 - val_loss: 1.5658 - val_acc: 0.7092 - val_f1: 0.4073\n",
      "Epoch 91/100\n",
      "1278/1277 [==============================] - 323s 253ms/step - loss: 0.0062 - acc: 0.9977 - f1: 0.9975 - val_loss: 2.0271 - val_acc: 0.6486 - val_f1: 0.3775\n",
      "Epoch 92/100\n",
      "1278/1277 [==============================] - 330s 258ms/step - loss: 0.0072 - acc: 0.9977 - f1: 0.9975 - val_loss: 1.6325 - val_acc: 0.6872 - val_f1: 0.4002\n",
      "Epoch 93/100\n",
      "1278/1277 [==============================] - 340s 266ms/step - loss: 0.0062 - acc: 0.9978 - f1: 0.9975 - val_loss: 1.4717 - val_acc: 0.7220 - val_f1: 0.4104\n",
      "Epoch 94/100\n",
      "1278/1277 [==============================] - 333s 261ms/step - loss: 0.0067 - acc: 0.9979 - f1: 0.9977 - val_loss: 1.9707 - val_acc: 0.6385 - val_f1: 0.3799\n",
      "Epoch 95/100\n",
      "1278/1277 [==============================] - 337s 263ms/step - loss: 0.0074 - acc: 0.9977 - f1: 0.9971 - val_loss: 1.5708 - val_acc: 0.6893 - val_f1: 0.4012\n",
      "Epoch 96/100\n",
      "1278/1277 [==============================] - 307s 240ms/step - loss: 0.0051 - acc: 0.9980 - f1: 0.9978 - val_loss: 1.5897 - val_acc: 0.7118 - val_f1: 0.4059\n",
      "Epoch 97/100\n",
      "1278/1277 [==============================] - 286s 224ms/step - loss: 0.0069 - acc: 0.9978 - f1: 0.9977 - val_loss: 1.6143 - val_acc: 0.7017 - val_f1: 0.4006\n",
      "Epoch 98/100\n",
      "1278/1277 [==============================] - 290s 227ms/step - loss: 0.0047 - acc: 0.9986 - f1: 0.9981 - val_loss: 1.4892 - val_acc: 0.7022 - val_f1: 0.4029\n",
      "Epoch 99/100\n",
      "1278/1277 [==============================] - 288s 225ms/step - loss: 0.0054 - acc: 0.9984 - f1: 0.9983 - val_loss: 2.5073 - val_acc: 0.6235 - val_f1: 0.3757\n",
      "Epoch 100/100\n",
      "1278/1277 [==============================] - 285s 223ms/step - loss: 0.0047 - acc: 0.9984 - f1: 0.9983 - val_loss: 1.8015 - val_acc: 0.6818 - val_f1: 0.3912\n"
     ]
    },
    {
     "data": {
      "text/plain": [
       "<keras.callbacks.History at 0x20917943e48>"
      ]
     },
     "execution_count": 14,
     "metadata": {},
     "output_type": "execute_result"
    }
   ],
   "source": [
    " \n",
    "\n",
    "# Comment this is if we are retraining...\n",
    "model=None\n",
    "model=effnet()\n",
    "\n",
    "# set the learning rate\n",
    "#K.set_value(model.optimizer.lr, 0.01) \n",
    "\n",
    "from keras.preprocessing.image import ImageDataGenerator\n",
    "datagen = ImageDataGenerator(\n",
    "    featurewise_center=False,\n",
    "    featurewise_std_normalization=False,\n",
    "    rotation_range=35,\n",
    "    width_shift_range=0.25,\n",
    "    height_shift_range=0.25,\n",
    "    shear_range = 20,\n",
    "    horizontal_flip=True)\n",
    "\n",
    "print(os.listdir(LOG_PATH))\n",
    "\n",
    "datagen.fit(x_train)\n",
    "\n",
    "model.fit_generator(datagen.flow(x_train, y_train, batch_size=16),\n",
    "                    steps_per_epoch=len(x_train) / 16, \n",
    "                    epochs=100, \n",
    "                    verbose=1, \n",
    "                    validation_data=(x_val,y_val),\n",
    "                    callbacks=[\n",
    "                       ModelCheckpoint(filepath=path_model, monitor='val_acc',  save_best_only=True),\n",
    "                    ]      \n",
    "                   )"
   ]
  },
  {
   "cell_type": "code",
   "execution_count": 15,
   "metadata": {
    "colab": {},
    "colab_type": "code",
    "id": "w2qN7ElfhH0y"
   },
   "outputs": [],
   "source": [
    " def plot_loss_accu(history):\n",
    "    loss = history.history['loss']\n",
    "    val_loss = history.history['val_loss']\n",
    "    epochs = range(len(loss))\n",
    "    plt.plot(epochs, loss, 'g')\n",
    "    plt.plot(epochs, val_loss, 'y')\n",
    "    plt.title('Loss')\n",
    "    plt.legend(['train', 'val'], loc='upper right')\n",
    "    plt.grid(True)\n",
    "    plt.savefig('{}/{}_loss.jpg'.format(EXP_PATH, EXP_NAME), dpi=300)\n",
    "    plt.show()\n",
    "    \n",
    "def plot_loss(history):\n",
    "    loss = history.history['acc']\n",
    "    val_loss = history.history['val_acc']\n",
    "    epochs = range(len(loss))\n",
    "    plt.plot(epochs, loss, 'r')\n",
    "    plt.plot(epochs, val_loss, 'b')\n",
    "    plt.title('Accuracy')\n",
    "    plt.legend(['train', 'val'], loc='lower right')\n",
    "    plt.grid(True)\n",
    "    plt.savefig('{}/{}_acc.jpg'.format(EXP_PATH, EXP_NAME), dpi=300)\n",
    "    plt.show()\n",
    "    \n",
    "def plot_f1(history):\n",
    "    loss = history.history['f1']\n",
    "    val_loss = history.history['val_f1']\n",
    "    epochs = range(len(loss))\n",
    "    plt.plot(epochs, loss, 'm')\n",
    "    plt.plot(epochs, val_loss, 'b')\n",
    "    plt.title('F1 score')\n",
    "    plt.legend(['train', 'val'], loc='lower right')\n",
    "    plt.grid(True)\n",
    "    plt.savefig('{}/{}_f1.jpg'.format(EXP_PATH, EXP_NAME), dpi=300)\n",
    "    plt.show()"
   ]
  },
  {
   "cell_type": "code",
   "execution_count": 16,
   "metadata": {
    "colab": {
     "base_uri": "https://localhost:8080/",
     "height": 708
    },
    "colab_type": "code",
    "id": "obPywb3KhH6n",
    "outputId": "dcc8048b-e748-4737-fd73-749443a19292"
   },
   "outputs": [
    {
     "data": {
      "image/png": "[encoded data removed]",
      "text/plain": [
       "<Figure size 432x288 with 1 Axes>"
      ]
     },
     "metadata": {
      "needs_background": "light"
     },
     "output_type": "display_data"
    },
    {
     "data": {
      "image/png": "[encoded data removed]",
      "text/plain": [
       "<Figure size 432x288 with 1 Axes>"
      ]
     },
     "metadata": {
      "needs_background": "light"
     },
     "output_type": "display_data"
    },
    {
     "data": {
      "image/png": "[encoded data removed]",
      "text/plain": [
       "<Figure size 432x288 with 1 Axes>"
      ]
     },
     "metadata": {
      "needs_background": "light"
     },
     "output_type": "display_data"
    },
    {
     "name": "stdout",
     "output_type": "stream",
     "text": [
      "Done!\n"
     ]
    }
   ],
   "source": [
    "plot_loss_accu(model.history)\n",
    "plot_loss(model.history)\n",
    "plot_f1(model.history)\n",
    "print(\"Done!\")"
   ]
  },
  {
   "cell_type": "code",
   "execution_count": 17,
   "metadata": {
    "colab": {
     "base_uri": "https://localhost:8080/",
     "height": 70
    },
    "colab_type": "code",
    "id": "n6z-ycnmqUbv",
    "outputId": "59ebf6b0-54f6-4013-ff85-d30f936d822b"
   },
   "outputs": [],
   "source": [
    "#score = model.evaluate(x_val, y_val, verbose=1)\n",
    "#print('Test loss:', score[0])\n",
    "#print('Test accuracy:', score[1])"
   ]
  },
  {
   "cell_type": "code",
   "execution_count": 18,
   "metadata": {
    "colab": {},
    "colab_type": "code",
    "id": "WNtFKE4ihjzq"
   },
   "outputs": [
    {
     "data": {
      "text/plain": [
       "((1867, 256, 256, 3), (1867, 2))"
      ]
     },
     "execution_count": 18,
     "metadata": {},
     "output_type": "execute_result"
    }
   ],
   "source": [
    "x_val.shape, y_val.shape"
   ]
  },
  {
   "cell_type": "code",
   "execution_count": 19,
   "metadata": {},
   "outputs": [],
   "source": [
    "from sklearn.metrics import f1_score\n",
    "import numpy as np\n",
    "\n",
    "def f1(y_true, y_pred):\n",
    "\tfsc = f1_score(y_true, y_pred, average='weighted')\n",
    "\treturn round(fsc, 4)\n",
    "\n",
    "def acc(y_true, y_pred):\n",
    "\ty_true = np.array(y_true)\n",
    "\ty_pred = np.array(y_pred)\n",
    "\n",
    "\tval = np.mean((y_true==y_pred))\n",
    "\treturn round(val, 4)\n"
   ]
  },
  {
   "cell_type": "code",
   "execution_count": 20,
   "metadata": {},
   "outputs": [
    {
     "name": "stdout",
     "output_type": "stream",
     "text": [
      "[[2.5792373e-09 1.0000000e+00]\n",
      " [3.0737804e-10 1.0000000e+00]\n",
      " [2.4106668e-03 9.9758935e-01]\n",
      " ...\n",
      " [3.2083803e-01 6.7916197e-01]\n",
      " [7.2795230e-01 2.7204767e-01]\n",
      " [5.2641212e-07 9.9999952e-01]]\n"
     ]
    },
    {
     "data": {
      "text/plain": [
       "((1867,), (1867,))"
      ]
     },
     "execution_count": 20,
     "metadata": {},
     "output_type": "execute_result"
    }
   ],
   "source": [
    "# make predictions\n",
    "y_pred = model.predict(x_val)\n",
    "print(y_pred)\n",
    "# get labels from predictions\n",
    "pred_labels = np.array([np.argmax(pred) for pred in y_pred])\n",
    "#convert ground truths to column values\n",
    "y_val_flat = np.argmax(y_val, axis=1)\n",
    "pred_labels.shape, y_val_flat.shape\n"
   ]
  },
  {
   "cell_type": "code",
   "execution_count": 21,
   "metadata": {},
   "outputs": [
    {
     "data": {
      "text/plain": [
       "((1867,), (1867,))"
      ]
     },
     "execution_count": 21,
     "metadata": {},
     "output_type": "execute_result"
    }
   ],
   "source": [
    "y_true_flat = y_val_flat\n",
    "y_pred_flat = pred_labels\n",
    "y_true_flat.shape, y_pred_flat.shape"
   ]
  },
  {
   "cell_type": "code",
   "execution_count": 22,
   "metadata": {},
   "outputs": [
    {
     "name": "stdout",
     "output_type": "stream",
     "text": [
      "[1 1 1 ... 0 0 0]\n",
      "[1 1 1 ... 1 0 1]\n",
      "[1 1 1 ... 0 0 0]\n"
     ]
    }
   ],
   "source": [
    "print(y_true_flat)\n",
    "print(y_pred_flat)\n",
    "print(y_val_flat)"
   ]
  },
  {
   "cell_type": "code",
   "execution_count": 23,
   "metadata": {},
   "outputs": [
    {
     "name": "stdout",
     "output_type": "stream",
     "text": [
      "0.6723 0.6818\n"
     ]
    }
   ],
   "source": [
    "metrics = {}\n",
    "\n",
    "F1 = f1(y_val_flat, pred_labels) \n",
    "ACC = acc(y_val_flat, pred_labels)\n",
    "\n",
    "metrics[\"Test F1\"] = str(F1)\n",
    "metrics[\"Test Accuracy\"] = str(ACC)\n",
    "\n",
    "print(F1, ACC)"
   ]
  },
  {
   "cell_type": "code",
   "execution_count": 24,
   "metadata": {},
   "outputs": [],
   "source": [
    "with open('{}/test.txt'.format(EXP_PATH), 'w') as f:\n",
    "    for k,v in metrics.items():\n",
    "        f.write(str(k))\n",
    "        f.write(\"--->\")\n",
    "        f.write(str(v))\n",
    "        # new line\n",
    "        f.write(\"\\n\")\n",
    "f.close()"
   ]
  },
  {
   "cell_type": "markdown",
   "metadata": {},
   "source": [
    "### Weighted"
   ]
  },
  {
   "cell_type": "code",
   "execution_count": 25,
   "metadata": {},
   "outputs": [
    {
     "data": {
      "text/plain": [
       "(0.669496804472463, 0.6818425281199786, 0.6723445803373145, None)"
      ]
     },
     "execution_count": 25,
     "metadata": {},
     "output_type": "execute_result"
    }
   ],
   "source": [
    "from sklearn.metrics import precision_recall_fscore_support\n",
    "\n",
    "precision_recall_fscore_support(y_true_flat, y_pred_flat, average='weighted')"
   ]
  },
  {
   "cell_type": "markdown",
   "metadata": {},
   "source": [
    "### Per label"
   ]
  },
  {
   "cell_type": "code",
   "execution_count": 26,
   "metadata": {},
   "outputs": [
    {
     "data": {
      "text/plain": [
       "(array([0.55192308, 0.73199703]),\n",
       " array([0.44290123, 0.80885972]),\n",
       " array([0.49143836, 0.7685113 ]),\n",
       " array([ 648, 1219], dtype=int64))"
      ]
     },
     "execution_count": 26,
     "metadata": {},
     "output_type": "execute_result"
    }
   ],
   "source": [
    "precision_recall_fscore_support(y_true_flat, y_pred_flat, average=None, labels=[0, 1])"
   ]
  },
  {
   "cell_type": "markdown",
   "metadata": {},
   "source": [
    "### Confusion matrix"
   ]
  },
  {
   "cell_type": "code",
   "execution_count": 27,
   "metadata": {},
   "outputs": [
    {
     "name": "stdout",
     "output_type": "stream",
     "text": [
      "[[287 361]\n",
      " [233 986]]\n",
      "              precision    recall  f1-score   support\n",
      "\n",
      "           0       0.55      0.44      0.49       648\n",
      "           1       0.73      0.81      0.77      1219\n",
      "\n",
      "    accuracy                           0.68      1867\n",
      "   macro avg       0.64      0.63      0.63      1867\n",
      "weighted avg       0.67      0.68      0.67      1867\n",
      "\n"
     ]
    }
   ],
   "source": [
    "from sklearn.metrics import confusion_matrix, classification_report\n",
    "\n",
    "confusion_mtx = confusion_matrix(y_true_flat, y_pred_flat) \n",
    "print(confusion_mtx)\n",
    "\n",
    "target_names = ['0', '1']\n",
    "print(classification_report(y_true_flat, y_pred_flat, target_names=target_names))"
   ]
  },
  {
   "cell_type": "code",
   "execution_count": 31,
   "metadata": {},
   "outputs": [
    {
     "data": {
      "text/plain": [
       "'plt.rcParams[\"axes.grid\"] = False\\nplt.rcParams.update({\\'font.size\\': 20})\\n\\nlabels = []\\n\\nlabel = test_generator.class_indices\\nindexlabel = dict((value, key) for key, value in label.items())\\n\\nfor k,v in indexlabel.items():\\n    labels.append(v)\\n\\nfrom sklearn.metrics import confusion_matrix\\nimport itertools\\ndef plot_confusion_matrix(cm, classes,\\n                          normalize=False,\\n                          title=\\'Confusion matrix\\',\\n                          cmap=plt.cm.Blues):\\n    accuracy = np.trace(cm) / float(np.sum(cm))\\n    misclass = 1 - accuracy\\n    if normalize:\\n        cm = cm.astype(\\'float\\') / cm.sum(axis=1)[:, np.newaxis]\\n        print(\"Normalized confusion matrix\")\\n    else:\\n        print(\\'Confusion Matrix\\')\\n\\n    print(cm)\\n#     fig = plt.figure()\\n    plt.imshow(cm, interpolation=\\'nearest\\', cmap=cmap)\\n#     plt.title(title)\\n#     plt.colorbar()\\n    tick_marks = np.arange(len(classes))\\n    plt.xticks(tick_marks, classes, rotation=45)\\n    plt.yticks(tick_marks, classes)\\n\\n    fmt = \\'.2f\\' if normalize else \\'d\\'\\n    thresh = cm.max() / 2.\\n    for i, j in itertools.product(range(cm.shape[0]), range(cm.shape[1])):\\n        plt.text(j, i, format(cm[i, j], fmt),\\n                 horizontalalignment=\"center\",\\n                 color=\"white\" if cm[i, j] > thresh else \"black\")\\n\\n    plt.tight_layout()\\n    plt.ylabel(\\'True label\\')\\n    plt.xlabel(\\'Predicted label\\naccuracy={:0.4f}; misclass={:0.4f}\\'.format(accuracy, misclass))\\n    plt.savefig(\\'{}/{}_Class_mat.jpg\\'.format(EXP_PATH, EXP_NAME), dpi=300) \\n\\n\\nplt.figure(figsize=(10,10))\\nplot_confusion_matrix(cm, classes=labels, title=\\' \\')'"
      ]
     },
     "execution_count": 31,
     "metadata": {},
     "output_type": "execute_result"
    }
   ],
   "source": [
    "\"\"\"plt.rcParams[\"axes.grid\"] = False\n",
    "plt.rcParams.update({'font.size': 20})\n",
    "\n",
    "labels = []\n",
    "\n",
    "label = test_generator.class_indices\n",
    "indexlabel = dict((value, key) for key, value in label.items())\n",
    "\n",
    "for k,v in indexlabel.items():\n",
    "    labels.append(v)\n",
    "\n",
    "from sklearn.metrics import confusion_matrix\n",
    "import itertools\n",
    "def plot_confusion_matrix(cm, classes,\n",
    "                          normalize=False,\n",
    "                          title='Confusion matrix',\n",
    "                          cmap=plt.cm.Blues):\n",
    "    accuracy = np.trace(cm) / float(np.sum(cm))\n",
    "    misclass = 1 - accuracy\n",
    "    if normalize:\n",
    "        cm = cm.astype('float') / cm.sum(axis=1)[:, np.newaxis]\n",
    "        print(\"Normalized confusion matrix\")\n",
    "    else:\n",
    "        print('Confusion Matrix')\n",
    "\n",
    "    print(cm)\n",
    "#     fig = plt.figure()\n",
    "    plt.imshow(cm, interpolation='nearest', cmap=cmap)\n",
    "#     plt.title(title)\n",
    "#     plt.colorbar()\n",
    "    tick_marks = np.arange(len(classes))\n",
    "    plt.xticks(tick_marks, classes, rotation=45)\n",
    "    plt.yticks(tick_marks, classes)\n",
    "\n",
    "    fmt = '.2f' if normalize else 'd'\n",
    "    thresh = cm.max() / 2.\n",
    "    for i, j in itertools.product(range(cm.shape[0]), range(cm.shape[1])):\n",
    "        plt.text(j, i, format(cm[i, j], fmt),\n",
    "                 horizontalalignment=\"center\",\n",
    "                 color=\"white\" if cm[i, j] > thresh else \"black\")\n",
    "\n",
    "    plt.tight_layout()\n",
    "    plt.ylabel('True label')\n",
    "    plt.xlabel('Predicted label\\naccuracy={:0.4f}; misclass={:0.4f}'.format(accuracy, misclass))\n",
    "    plt.savefig('{}/{}_Class_mat.jpg'.format(EXP_PATH, EXP_NAME), dpi=300) \n",
    "\n",
    "\n",
    "plt.figure(figsize=(10,10))\n",
    "plot_confusion_matrix(cm, classes=labels, title=' ')\"\"\""
   ]
  },
  {
   "cell_type": "code",
   "execution_count": 28,
   "metadata": {},
   "outputs": [
    {
     "name": "stdout",
     "output_type": "stream",
     "text": [
      "Confusion Matrix\n",
      "[[287 361]\n",
      " [233 986]]\n"
     ]
    },
    {
     "data": {
      "image/png": "[encoded data removed]",
      "text/plain": [
       "<Figure size 576x576 with 2 Axes>"
      ]
     },
     "metadata": {
      "needs_background": "light"
     },
     "output_type": "display_data"
    }
   ],
   "source": [
    "import matplotlib.pyplot as plt\n",
    "\n",
    "plt.rcParams[\"axes.grid\"] = False\n",
    "plt.rcParams.update({'font.size': 20})\n",
    "\n",
    "from sklearn.metrics import confusion_matrix\n",
    "cm = confusion_matrix(y_true_flat,y_pred_flat)\n",
    "\n",
    "labels = ['0', '1']\n",
    "    \n",
    "import itertools\n",
    "def plot_confusion_matrix(cm, classes,\n",
    "                          normalize=False,\n",
    "                          title='Confusion matrix',\n",
    "                          cmap=plt.cm.Blues):\n",
    "    accuracy = np.trace(cm) / float(np.sum(cm))\n",
    "    misclass = 1 - accuracy\n",
    "    if normalize:\n",
    "        cm = cm.astype('float') / cm.sum(axis=1)[:, np.newaxis]\n",
    "        print(\"Normalized confusion matrix\")\n",
    "    else:\n",
    "        print('Confusion Matrix')\n",
    "\n",
    "    print(cm)\n",
    "#     fig = plt.figure()\n",
    "    plt.imshow(cm, interpolation='nearest', cmap=cmap)\n",
    "    plt.title(title)\n",
    "    plt.colorbar()\n",
    "    tick_marks = np.arange(len(classes))\n",
    "    plt.xticks(tick_marks, classes, rotation=45)\n",
    "    plt.yticks(tick_marks, classes)\n",
    "\n",
    "    fmt = '.2f' if normalize else 'd'\n",
    "    thresh = cm.max() / 2.\n",
    "    for i, j in itertools.product(range(cm.shape[0]), range(cm.shape[1])):\n",
    "        plt.text(j, i, format(cm[i, j], fmt),\n",
    "                 horizontalalignment=\"center\",\n",
    "                 color=\"white\" if cm[i, j] > thresh else \"black\")\n",
    "\n",
    "    plt.tight_layout()\n",
    "    plt.ylabel('True label')\n",
    "    plt.xlabel('Predicted label\\naccuracy={:0.4f}; misclass={:0.4f}'.format(accuracy, misclass))\n",
    "#     plt.savefig('plots/3.InceptionV3-2-Private-DataSet-CM.png', bbox_inches='tight', dpi = 100) \n",
    "plt.figure(figsize=(8,8))\n",
    "\n",
    "# plot CF fancy image\n",
    "plot_confusion_matrix(cm, classes=labels,\n",
    "                      title='Confusion Matrix')"
   ]
  },
  {
   "cell_type": "code",
   "execution_count": 29,
   "metadata": {},
   "outputs": [
    {
     "name": "stdout",
     "output_type": "stream",
     "text": [
      "Done!\n"
     ]
    }
   ],
   "source": [
    "print(\"Done!\")"
   ]
  },
  {
   "cell_type": "code",
   "execution_count": null,
   "metadata": {},
   "outputs": [],
   "source": []
  }
 ],
 "metadata": {
  "accelerator": "GPU",
  "colab": {
   "collapsed_sections": [],
   "name": "vgg-2b.ipynb",
   "provenance": [],
   "version": "0.3.2"
  },
  "kernelspec": {
   "display_name": "Python 3",
   "language": "python",
   "name": "python3"
  },
  "language_info": {
   "codemirror_mode": {
    "name": "ipython",
    "version": 3
   },
   "file_extension": ".py",
   "mimetype": "text/x-python",
   "name": "python",
   "nbconvert_exporter": "python",
   "pygments_lexer": "ipython3",
   "version": "3.7.9"
  }
 },
 "nbformat": 4,
 "nbformat_minor": 2
}
